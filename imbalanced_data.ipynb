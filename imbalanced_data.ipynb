{
  "nbformat": 4,
  "nbformat_minor": 0,
  "metadata": {
    "kernelspec": {
      "display_name": "Python 3",
      "language": "python",
      "name": "python3"
    },
    "language_info": {
      "codemirror_mode": {
        "name": "ipython",
        "version": 3
      },
      "file_extension": ".py",
      "mimetype": "text/x-python",
      "name": "python",
      "nbconvert_exporter": "python",
      "pygments_lexer": "ipython3",
      "version": "3.7.6"
    },
    "colab": {
      "name": "imbalanced data.ipynb",
      "provenance": [],
      "collapsed_sections": [
        "MA7TvCPIXEDe",
        "DbJbr1m1XEE1",
        "1E5qN-hjXEFC",
        "dzgXUWihXEFO",
        "ZykAu2B3XEFZ",
        "rRTp0C9jXEFr",
        "L_eYm0_BXEF6",
        "v2-odGRzXEGA",
        "ygpzhISwXEGU"
      ]
    }
  },
  "cells": [
    {
      "cell_type": "markdown",
      "metadata": {
        "id": "OR4o7L4lXECd",
        "colab_type": "text"
      },
      "source": [
        "# Imbalanced Data"
      ]
    },
    {
      "cell_type": "code",
      "metadata": {
        "id": "8oBYKwsnXECh",
        "colab_type": "code",
        "colab": {
          "base_uri": "https://localhost:8080/",
          "height": 71
        },
        "outputId": "b43f9c9e-3844-4f2a-e5d4-4b091a2abb19"
      },
      "source": [
        "# We'll start by importing the usual suspects\n",
        "import pandas as pd #for data manipulation\n",
        "import numpy as np #for numerical computations\n",
        "import matplotlib.pyplot as plt #for visualizations\n",
        "import seaborn as sns # his will run on top of matplotlib to give us some visulalizations\n",
        "#Let's use this magic line so that we can see the visualizations within the Notebook\n",
        "%matplotlib inline\n"
      ],
      "execution_count": 1,
      "outputs": [
        {
          "output_type": "stream",
          "text": [
            "/usr/local/lib/python3.6/dist-packages/statsmodels/tools/_testing.py:19: FutureWarning: pandas.util.testing is deprecated. Use the functions in the public API at pandas.testing instead.\n",
            "  import pandas.util.testing as tm\n"
          ],
          "name": "stderr"
        }
      ]
    },
    {
      "cell_type": "code",
      "metadata": {
        "id": "KhpDkvkUXECm",
        "colab_type": "code",
        "colab": {}
      },
      "source": [
        "# loading in the dataset as a data frame\n",
        "df = pd.read_csv(\"default-rate.csv\", index_col=0)"
      ],
      "execution_count": 0,
      "outputs": []
    },
    {
      "cell_type": "code",
      "metadata": {
        "id": "xRMkg4qwXECt",
        "colab_type": "code",
        "colab": {
          "base_uri": "https://localhost:8080/",
          "height": 204
        },
        "outputId": "f78ad360-b2c4-4e26-baf8-02d2aee3a51f"
      },
      "source": [
        "# check the first records of the dataset\n",
        "df.head()"
      ],
      "execution_count": 3,
      "outputs": [
        {
          "output_type": "execute_result",
          "data": {
            "text/html": [
              "<div>\n",
              "<style scoped>\n",
              "    .dataframe tbody tr th:only-of-type {\n",
              "        vertical-align: middle;\n",
              "    }\n",
              "\n",
              "    .dataframe tbody tr th {\n",
              "        vertical-align: top;\n",
              "    }\n",
              "\n",
              "    .dataframe thead th {\n",
              "        text-align: right;\n",
              "    }\n",
              "</style>\n",
              "<table border=\"1\" class=\"dataframe\">\n",
              "  <thead>\n",
              "    <tr style=\"text-align: right;\">\n",
              "      <th></th>\n",
              "      <th>default</th>\n",
              "      <th>student</th>\n",
              "      <th>balance</th>\n",
              "      <th>income</th>\n",
              "    </tr>\n",
              "  </thead>\n",
              "  <tbody>\n",
              "    <tr>\n",
              "      <th>1</th>\n",
              "      <td>No</td>\n",
              "      <td>No</td>\n",
              "      <td>729.526495</td>\n",
              "      <td>44361.62507</td>\n",
              "    </tr>\n",
              "    <tr>\n",
              "      <th>2</th>\n",
              "      <td>No</td>\n",
              "      <td>Yes</td>\n",
              "      <td>817.180407</td>\n",
              "      <td>12106.13470</td>\n",
              "    </tr>\n",
              "    <tr>\n",
              "      <th>3</th>\n",
              "      <td>No</td>\n",
              "      <td>No</td>\n",
              "      <td>1073.549164</td>\n",
              "      <td>31767.13895</td>\n",
              "    </tr>\n",
              "    <tr>\n",
              "      <th>4</th>\n",
              "      <td>No</td>\n",
              "      <td>No</td>\n",
              "      <td>529.250605</td>\n",
              "      <td>35704.49394</td>\n",
              "    </tr>\n",
              "    <tr>\n",
              "      <th>5</th>\n",
              "      <td>No</td>\n",
              "      <td>No</td>\n",
              "      <td>785.655883</td>\n",
              "      <td>38463.49588</td>\n",
              "    </tr>\n",
              "  </tbody>\n",
              "</table>\n",
              "</div>"
            ],
            "text/plain": [
              "  default student      balance       income\n",
              "1      No      No   729.526495  44361.62507\n",
              "2      No     Yes   817.180407  12106.13470\n",
              "3      No      No  1073.549164  31767.13895\n",
              "4      No      No   529.250605  35704.49394\n",
              "5      No      No   785.655883  38463.49588"
            ]
          },
          "metadata": {
            "tags": []
          },
          "execution_count": 3
        }
      ]
    },
    {
      "cell_type": "code",
      "metadata": {
        "id": "SnZQB-jbXECz",
        "colab_type": "code",
        "colab": {
          "base_uri": "https://localhost:8080/",
          "height": 297
        },
        "outputId": "9427c023-a84c-4fd6-b12a-6808489abe71"
      },
      "source": [
        "# Get a glimpse of the dataset\n",
        "df.describe()"
      ],
      "execution_count": 4,
      "outputs": [
        {
          "output_type": "execute_result",
          "data": {
            "text/html": [
              "<div>\n",
              "<style scoped>\n",
              "    .dataframe tbody tr th:only-of-type {\n",
              "        vertical-align: middle;\n",
              "    }\n",
              "\n",
              "    .dataframe tbody tr th {\n",
              "        vertical-align: top;\n",
              "    }\n",
              "\n",
              "    .dataframe thead th {\n",
              "        text-align: right;\n",
              "    }\n",
              "</style>\n",
              "<table border=\"1\" class=\"dataframe\">\n",
              "  <thead>\n",
              "    <tr style=\"text-align: right;\">\n",
              "      <th></th>\n",
              "      <th>balance</th>\n",
              "      <th>income</th>\n",
              "    </tr>\n",
              "  </thead>\n",
              "  <tbody>\n",
              "    <tr>\n",
              "      <th>count</th>\n",
              "      <td>10000.000000</td>\n",
              "      <td>10000.000000</td>\n",
              "    </tr>\n",
              "    <tr>\n",
              "      <th>mean</th>\n",
              "      <td>835.374886</td>\n",
              "      <td>33516.981876</td>\n",
              "    </tr>\n",
              "    <tr>\n",
              "      <th>std</th>\n",
              "      <td>483.714985</td>\n",
              "      <td>13336.639563</td>\n",
              "    </tr>\n",
              "    <tr>\n",
              "      <th>min</th>\n",
              "      <td>0.000000</td>\n",
              "      <td>771.967729</td>\n",
              "    </tr>\n",
              "    <tr>\n",
              "      <th>25%</th>\n",
              "      <td>481.731105</td>\n",
              "      <td>21340.462905</td>\n",
              "    </tr>\n",
              "    <tr>\n",
              "      <th>50%</th>\n",
              "      <td>823.636973</td>\n",
              "      <td>34552.644800</td>\n",
              "    </tr>\n",
              "    <tr>\n",
              "      <th>75%</th>\n",
              "      <td>1166.308387</td>\n",
              "      <td>43807.729275</td>\n",
              "    </tr>\n",
              "    <tr>\n",
              "      <th>max</th>\n",
              "      <td>2654.322576</td>\n",
              "      <td>73554.233500</td>\n",
              "    </tr>\n",
              "  </tbody>\n",
              "</table>\n",
              "</div>"
            ],
            "text/plain": [
              "            balance        income\n",
              "count  10000.000000  10000.000000\n",
              "mean     835.374886  33516.981876\n",
              "std      483.714985  13336.639563\n",
              "min        0.000000    771.967729\n",
              "25%      481.731105  21340.462905\n",
              "50%      823.636973  34552.644800\n",
              "75%     1166.308387  43807.729275\n",
              "max     2654.322576  73554.233500"
            ]
          },
          "metadata": {
            "tags": []
          },
          "execution_count": 4
        }
      ]
    },
    {
      "cell_type": "markdown",
      "metadata": {
        "id": "RG9PQmsBXEC3",
        "colab_type": "text"
      },
      "source": [
        "Our dataset has 10000 records and four columns. The median balance is 823.6 and the maximum is 2654.32. The Median income is 34552.64 while the maximum is 73554.23. "
      ]
    },
    {
      "cell_type": "code",
      "metadata": {
        "id": "8JM-sJ0eXEC4",
        "colab_type": "code",
        "colab": {
          "base_uri": "https://localhost:8080/",
          "height": 204
        },
        "outputId": "1de71720-e1d4-49ac-a422-ba9fa1b50699"
      },
      "source": [
        "# Get some more info on the dataset\n",
        "df.info()"
      ],
      "execution_count": 5,
      "outputs": [
        {
          "output_type": "stream",
          "text": [
            "<class 'pandas.core.frame.DataFrame'>\n",
            "Int64Index: 10000 entries, 1 to 10000\n",
            "Data columns (total 4 columns):\n",
            " #   Column   Non-Null Count  Dtype  \n",
            "---  ------   --------------  -----  \n",
            " 0   default  10000 non-null  object \n",
            " 1   student  10000 non-null  object \n",
            " 2   balance  10000 non-null  float64\n",
            " 3   income   10000 non-null  float64\n",
            "dtypes: float64(2), object(2)\n",
            "memory usage: 390.6+ KB\n"
          ],
          "name": "stdout"
        }
      ]
    },
    {
      "cell_type": "markdown",
      "metadata": {
        "id": "hD9eY-mRXEC-",
        "colab_type": "text"
      },
      "source": [
        "We can clearly see that our dataset has no null values, otherwise we'd have to deal with them first. "
      ]
    },
    {
      "cell_type": "markdown",
      "metadata": {
        "id": "9QbdzCRAXEC_",
        "colab_type": "text"
      },
      "source": [
        "## Visualizing the default classes"
      ]
    },
    {
      "cell_type": "code",
      "metadata": {
        "id": "XJHThy7xXEDA",
        "colab_type": "code",
        "colab": {}
      },
      "source": [
        "defaulters = df.groupby('default').count().reset_index()\n"
      ],
      "execution_count": 0,
      "outputs": []
    },
    {
      "cell_type": "code",
      "metadata": {
        "id": "6cEEynpvXEDF",
        "colab_type": "code",
        "colab": {
          "base_uri": "https://localhost:8080/",
          "height": 111
        },
        "outputId": "4ed40c45-b7d8-4e93-a7dd-45bb70fa7d85"
      },
      "source": [
        "defaulters"
      ],
      "execution_count": 7,
      "outputs": [
        {
          "output_type": "execute_result",
          "data": {
            "text/html": [
              "<div>\n",
              "<style scoped>\n",
              "    .dataframe tbody tr th:only-of-type {\n",
              "        vertical-align: middle;\n",
              "    }\n",
              "\n",
              "    .dataframe tbody tr th {\n",
              "        vertical-align: top;\n",
              "    }\n",
              "\n",
              "    .dataframe thead th {\n",
              "        text-align: right;\n",
              "    }\n",
              "</style>\n",
              "<table border=\"1\" class=\"dataframe\">\n",
              "  <thead>\n",
              "    <tr style=\"text-align: right;\">\n",
              "      <th></th>\n",
              "      <th>default</th>\n",
              "      <th>student</th>\n",
              "      <th>balance</th>\n",
              "      <th>income</th>\n",
              "    </tr>\n",
              "  </thead>\n",
              "  <tbody>\n",
              "    <tr>\n",
              "      <th>0</th>\n",
              "      <td>No</td>\n",
              "      <td>9667</td>\n",
              "      <td>9667</td>\n",
              "      <td>9667</td>\n",
              "    </tr>\n",
              "    <tr>\n",
              "      <th>1</th>\n",
              "      <td>Yes</td>\n",
              "      <td>333</td>\n",
              "      <td>333</td>\n",
              "      <td>333</td>\n",
              "    </tr>\n",
              "  </tbody>\n",
              "</table>\n",
              "</div>"
            ],
            "text/plain": [
              "  default  student  balance  income\n",
              "0      No     9667     9667    9667\n",
              "1     Yes      333      333     333"
            ]
          },
          "metadata": {
            "tags": []
          },
          "execution_count": 7
        }
      ]
    },
    {
      "cell_type": "code",
      "metadata": {
        "id": "ZJ4FXuU-XEDM",
        "colab_type": "code",
        "colab": {
          "base_uri": "https://localhost:8080/",
          "height": 297
        },
        "outputId": "c1232217-354f-4757-e2e0-31e6e632b862"
      },
      "source": [
        "sns.countplot(df[\"default\"])"
      ],
      "execution_count": 8,
      "outputs": [
        {
          "output_type": "execute_result",
          "data": {
            "text/plain": [
              "<matplotlib.axes._subplots.AxesSubplot at 0x7f320bbd5e10>"
            ]
          },
          "metadata": {
            "tags": []
          },
          "execution_count": 8
        },
        {
          "output_type": "display_data",
          "data": {
            "image/png": "[encoded data removed]",
            "text/plain": [
              "<Figure size 432x288 with 1 Axes>"
            ]
          },
          "metadata": {
            "tags": [],
            "needs_background": "light"
          }
        }
      ]
    },
    {
      "cell_type": "markdown",
      "metadata": {
        "id": "oxX4vqsjXEDS",
        "colab_type": "text"
      },
      "source": [
        "From the above visualization we can see that most the data points in the daatset fall NO default class"
      ]
    },
    {
      "cell_type": "markdown",
      "metadata": {
        "id": "ALS-IcxOXEDS",
        "colab_type": "text"
      },
      "source": [
        "#### Visualization of Students"
      ]
    },
    {
      "cell_type": "code",
      "metadata": {
        "id": "foNwd8-jXEDT",
        "colab_type": "code",
        "colab": {
          "base_uri": "https://localhost:8080/",
          "height": 296
        },
        "outputId": "7e874edf-ae98-40a9-b3ff-7a771566016c"
      },
      "source": [
        "sns.countplot(df['student'])"
      ],
      "execution_count": 9,
      "outputs": [
        {
          "output_type": "execute_result",
          "data": {
            "text/plain": [
              "<matplotlib.axes._subplots.AxesSubplot at 0x7f320baee278>"
            ]
          },
          "metadata": {
            "tags": []
          },
          "execution_count": 9
        },
        {
          "output_type": "display_data",
          "data": {
            "image/png": "[encoded data removed]",
            "text/plain": [
              "<Figure size 432x288 with 1 Axes>"
            ]
          },
          "metadata": {
            "tags": [],
            "needs_background": "light"
          }
        }
      ]
    },
    {
      "cell_type": "markdown",
      "metadata": {
        "id": "GBQXMIugXEDX",
        "colab_type": "text"
      },
      "source": [
        "We see that most of the datapoints are not students"
      ]
    },
    {
      "cell_type": "markdown",
      "metadata": {
        "id": "7cKf14HMXEDY",
        "colab_type": "text"
      },
      "source": [
        "Next, we can Seaborn's pairplot to get a quick visualization of the dataset. "
      ]
    },
    {
      "cell_type": "code",
      "metadata": {
        "id": "QhjzGQWdXEDZ",
        "colab_type": "code",
        "colab": {
          "base_uri": "https://localhost:8080/",
          "height": 404
        },
        "outputId": "cb318537-bbb7-44a0-fdc4-d5a150d2c0a6"
      },
      "source": [
        "sns.pairplot(df)"
      ],
      "execution_count": 10,
      "outputs": [
        {
          "output_type": "execute_result",
          "data": {
            "text/plain": [
              "<seaborn.axisgrid.PairGrid at 0x7f320bbd53c8>"
            ]
          },
          "metadata": {
            "tags": []
          },
          "execution_count": 10
        },
        {
          "output_type": "display_data",
          "data": {
            "image/png": "[encoded data removed]",
            "text/plain": [
              "<Figure size 360x360 with 6 Axes>"
            ]
          },
          "metadata": {
            "tags": [],
            "needs_background": "light"
          }
        }
      ]
    },
    {
      "cell_type": "markdown",
      "metadata": {
        "id": "MA7TvCPIXEDe",
        "colab_type": "text"
      },
      "source": [
        "### Distribution of the data"
      ]
    },
    {
      "cell_type": "markdown",
      "metadata": {
        "id": "5aa34CQRXEDf",
        "colab_type": "text"
      },
      "source": [
        "let's check the distribution of the data using histogram and boxplots"
      ]
    },
    {
      "cell_type": "code",
      "metadata": {
        "id": "IyqUcd1QXEDg",
        "colab_type": "code",
        "colab": {
          "base_uri": "https://localhost:8080/",
          "height": 0
        },
        "outputId": "67adf1f9-9923-4ffc-c260-73810a87425f"
      },
      "source": [
        "sns.boxplot(y=df[\"balance\"])\n"
      ],
      "execution_count": 11,
      "outputs": [
        {
          "output_type": "execute_result",
          "data": {
            "text/plain": [
              "<matplotlib.axes._subplots.AxesSubplot at 0x7f3208c32d30>"
            ]
          },
          "metadata": {
            "tags": []
          },
          "execution_count": 11
        },
        {
          "output_type": "display_data",
          "data": {
            "image/png": "[encoded data removed]",
            "text/plain": [
              "<Figure size 432x288 with 1 Axes>"
            ]
          },
          "metadata": {
            "tags": [],
            "needs_background": "light"
          }
        }
      ]
    },
    {
      "cell_type": "code",
      "metadata": {
        "id": "8b4_kgm8XEDk",
        "colab_type": "code",
        "colab": {}
      },
      "source": [
        "q1, q3= np.percentile(df['income'],[25,75])"
      ],
      "execution_count": 0,
      "outputs": []
    },
    {
      "cell_type": "code",
      "metadata": {
        "id": "7yD5xnkhXEDo",
        "colab_type": "code",
        "colab": {}
      },
      "source": [
        "q_1, q_3= np.percentile(df['balance'],[25,75])"
      ],
      "execution_count": 0,
      "outputs": []
    },
    {
      "cell_type": "code",
      "metadata": {
        "id": "pNeoUewnXEDu",
        "colab_type": "code",
        "colab": {
          "base_uri": "https://localhost:8080/",
          "height": 0
        },
        "outputId": "04dd1a1f-27b5-41cb-b2da-06babda2c440"
      },
      "source": [
        "q1, q3"
      ],
      "execution_count": 14,
      "outputs": [
        {
          "output_type": "execute_result",
          "data": {
            "text/plain": [
              "(21340.462905, 43807.729275)"
            ]
          },
          "metadata": {
            "tags": []
          },
          "execution_count": 14
        }
      ]
    },
    {
      "cell_type": "code",
      "metadata": {
        "id": "-ooKcriHXEDz",
        "colab_type": "code",
        "colab": {}
      },
      "source": [
        "iqr1 = q3 - q1"
      ],
      "execution_count": 0,
      "outputs": []
    },
    {
      "cell_type": "code",
      "metadata": {
        "id": "vqOzfKimXED4",
        "colab_type": "code",
        "colab": {
          "base_uri": "https://localhost:8080/",
          "height": 0
        },
        "outputId": "95cac124-afb8-4f64-acd9-1f0887010d77"
      },
      "source": [
        "iqr1"
      ],
      "execution_count": 16,
      "outputs": [
        {
          "output_type": "execute_result",
          "data": {
            "text/plain": [
              "22467.266369999998"
            ]
          },
          "metadata": {
            "tags": []
          },
          "execution_count": 16
        }
      ]
    },
    {
      "cell_type": "code",
      "metadata": {
        "id": "B0I3MkN7XED-",
        "colab_type": "code",
        "colab": {
          "base_uri": "https://localhost:8080/",
          "height": 0
        },
        "outputId": "7d2f94d0-af12-484c-e9b4-a4dd7bcf8737"
      },
      "source": [
        "q_1, q_3"
      ],
      "execution_count": 17,
      "outputs": [
        {
          "output_type": "execute_result",
          "data": {
            "text/plain": [
              "(481.73110505, 1166.30838675)"
            ]
          },
          "metadata": {
            "tags": []
          },
          "execution_count": 17
        }
      ]
    },
    {
      "cell_type": "code",
      "metadata": {
        "id": "71jYLbLmXEEC",
        "colab_type": "code",
        "colab": {}
      },
      "source": [
        "qr2 = q_3 - q_1"
      ],
      "execution_count": 0,
      "outputs": []
    },
    {
      "cell_type": "code",
      "metadata": {
        "id": "MNJqzvXeXEEG",
        "colab_type": "code",
        "colab": {
          "base_uri": "https://localhost:8080/",
          "height": 0
        },
        "outputId": "48fd30b4-29e2-4ce2-8e51-5019daf26c7d"
      },
      "source": [
        "qr2"
      ],
      "execution_count": 19,
      "outputs": [
        {
          "output_type": "execute_result",
          "data": {
            "text/plain": [
              "684.5772817"
            ]
          },
          "metadata": {
            "tags": []
          },
          "execution_count": 19
        }
      ]
    },
    {
      "cell_type": "code",
      "metadata": {
        "id": "DzKocvApXEEK",
        "colab_type": "code",
        "colab": {}
      },
      "source": [
        "lower_bound = q1 - (1.5 * q1)\n",
        "upper_bound = q3 + (1.5 * q3)"
      ],
      "execution_count": 0,
      "outputs": []
    },
    {
      "cell_type": "code",
      "metadata": {
        "id": "jFiEw9U-XEEP",
        "colab_type": "code",
        "colab": {
          "base_uri": "https://localhost:8080/",
          "height": 0
        },
        "outputId": "6d6997ef-5870-41e6-d48d-ac0144bd4e70"
      },
      "source": [
        "lower_bound, upper_bound"
      ],
      "execution_count": 21,
      "outputs": [
        {
          "output_type": "execute_result",
          "data": {
            "text/plain": [
              "(-10670.2314525, 109519.3231875)"
            ]
          },
          "metadata": {
            "tags": []
          },
          "execution_count": 21
        }
      ]
    },
    {
      "cell_type": "code",
      "metadata": {
        "id": "-X1D8c0XXEEU",
        "colab_type": "code",
        "colab": {}
      },
      "source": [
        "lower_bound_1 = q_1 - (1.5 * q_1)\n",
        "upper_bound_1 = q_3 + (1.5 * q_3)"
      ],
      "execution_count": 0,
      "outputs": []
    },
    {
      "cell_type": "code",
      "metadata": {
        "id": "j-FEk1YyXEEZ",
        "colab_type": "code",
        "colab": {
          "base_uri": "https://localhost:8080/",
          "height": 0
        },
        "outputId": "a894e82a-9e5d-45b7-eeb6-514a10d3a398"
      },
      "source": [
        "lower_bound_1, upper_bound_1"
      ],
      "execution_count": 23,
      "outputs": [
        {
          "output_type": "execute_result",
          "data": {
            "text/plain": [
              "(-240.865552525, 2915.770966875)"
            ]
          },
          "metadata": {
            "tags": []
          },
          "execution_count": 23
        }
      ]
    },
    {
      "cell_type": "code",
      "metadata": {
        "id": "uL2ZqFQDXEEh",
        "colab_type": "code",
        "colab": {
          "base_uri": "https://localhost:8080/",
          "height": 0
        },
        "outputId": "1832f166-75eb-45c7-a00f-2a42f613767d"
      },
      "source": [
        "df[df['balance'] > 2915.7709668749999]"
      ],
      "execution_count": 24,
      "outputs": [
        {
          "output_type": "execute_result",
          "data": {
            "text/html": [
              "<div>\n",
              "<style scoped>\n",
              "    .dataframe tbody tr th:only-of-type {\n",
              "        vertical-align: middle;\n",
              "    }\n",
              "\n",
              "    .dataframe tbody tr th {\n",
              "        vertical-align: top;\n",
              "    }\n",
              "\n",
              "    .dataframe thead th {\n",
              "        text-align: right;\n",
              "    }\n",
              "</style>\n",
              "<table border=\"1\" class=\"dataframe\">\n",
              "  <thead>\n",
              "    <tr style=\"text-align: right;\">\n",
              "      <th></th>\n",
              "      <th>default</th>\n",
              "      <th>student</th>\n",
              "      <th>balance</th>\n",
              "      <th>income</th>\n",
              "    </tr>\n",
              "  </thead>\n",
              "  <tbody>\n",
              "  </tbody>\n",
              "</table>\n",
              "</div>"
            ],
            "text/plain": [
              "Empty DataFrame\n",
              "Columns: [default, student, balance, income]\n",
              "Index: []"
            ]
          },
          "metadata": {
            "tags": []
          },
          "execution_count": 24
        }
      ]
    },
    {
      "cell_type": "code",
      "metadata": {
        "id": "OLwG_zOEXEEm",
        "colab_type": "code",
        "colab": {
          "base_uri": "https://localhost:8080/",
          "height": 0
        },
        "outputId": "d2939b3c-70ee-4ae1-e399-45ceac6ab3ab"
      },
      "source": [
        "df['balance'].max()"
      ],
      "execution_count": 25,
      "outputs": [
        {
          "output_type": "execute_result",
          "data": {
            "text/plain": [
              "2654.322576"
            ]
          },
          "metadata": {
            "tags": []
          },
          "execution_count": 25
        }
      ]
    },
    {
      "cell_type": "code",
      "metadata": {
        "id": "G-ilZLkDXEEq",
        "colab_type": "code",
        "colab": {
          "base_uri": "https://localhost:8080/",
          "height": 0
        },
        "outputId": "831e9ce7-65f9-409b-b456-f3efe97b47a9"
      },
      "source": [
        "sns.boxplot(y=df[\"income\"])\n"
      ],
      "execution_count": 26,
      "outputs": [
        {
          "output_type": "execute_result",
          "data": {
            "text/plain": [
              "<matplotlib.axes._subplots.AxesSubplot at 0x7f3207380128>"
            ]
          },
          "metadata": {
            "tags": []
          },
          "execution_count": 26
        },
        {
          "output_type": "display_data",
          "data": {
            "image/png": "[encoded data removed]",
            "text/plain": [
              "<Figure size 432x288 with 1 Axes>"
            ]
          },
          "metadata": {
            "tags": [],
            "needs_background": "light"
          }
        }
      ]
    },
    {
      "cell_type": "code",
      "metadata": {
        "id": "7GT8dRm7XEEt",
        "colab_type": "code",
        "colab": {
          "base_uri": "https://localhost:8080/",
          "height": 0
        },
        "outputId": "9e890429-360f-4ed3-d96f-9ed145363b1b"
      },
      "source": [
        "sns.distplot(df[\"balance\"])\n"
      ],
      "execution_count": 27,
      "outputs": [
        {
          "output_type": "execute_result",
          "data": {
            "text/plain": [
              "<matplotlib.axes._subplots.AxesSubplot at 0x7f3207306f28>"
            ]
          },
          "metadata": {
            "tags": []
          },
          "execution_count": 27
        },
        {
          "output_type": "display_data",
          "data": {
            "image/png": "[encoded data removed]",
            "text/plain": [
              "<Figure size 432x288 with 1 Axes>"
            ]
          },
          "metadata": {
            "tags": [],
            "needs_background": "light"
          }
        }
      ]
    },
    {
      "cell_type": "code",
      "metadata": {
        "id": "TqGgn5QkXEEx",
        "colab_type": "code",
        "colab": {
          "base_uri": "https://localhost:8080/",
          "height": 0
        },
        "outputId": "b6ae9c3a-5063-4798-81fd-9b26661c0714"
      },
      "source": [
        "sns.distplot(df[\"income\"])\n"
      ],
      "execution_count": 28,
      "outputs": [
        {
          "output_type": "execute_result",
          "data": {
            "text/plain": [
              "<matplotlib.axes._subplots.AxesSubplot at 0x7f3207306320>"
            ]
          },
          "metadata": {
            "tags": []
          },
          "execution_count": 28
        },
        {
          "output_type": "display_data",
          "data": {
            "image/png": "[encoded data removed]",
            "text/plain": [
              "<Figure size 432x288 with 1 Axes>"
            ]
          },
          "metadata": {
            "tags": [],
            "needs_background": "light"
          }
        }
      ]
    },
    {
      "cell_type": "markdown",
      "metadata": {
        "id": "DbJbr1m1XEE1",
        "colab_type": "text"
      },
      "source": [
        "#### What's the balance for the two classes ?"
      ]
    },
    {
      "cell_type": "code",
      "metadata": {
        "id": "I7uK8CtqXEE2",
        "colab_type": "code",
        "colab": {
          "base_uri": "https://localhost:8080/",
          "height": 0
        },
        "outputId": "4692febc-3b2f-4652-bab5-4c1f90c7cf06"
      },
      "source": [
        "pd.set_option('float_format', '{:f}'.format) # in order to see the full figure instead of e raised to \n",
        "default = df.groupby(['default','student'])['balance'].sum().reset_index() # Group by student and sum the balance and reset the index\n",
        "default.columns = ['Default','student','Balance'] # define the columns for the new data frame\n",
        "default = default.sort_values(by='Balance',ascending=False) # sort by values and arrange from the largest\n",
        "default"
      ],
      "execution_count": 29,
      "outputs": [
        {
          "output_type": "execute_result",
          "data": {
            "text/html": [
              "<div>\n",
              "<style scoped>\n",
              "    .dataframe tbody tr th:only-of-type {\n",
              "        vertical-align: middle;\n",
              "    }\n",
              "\n",
              "    .dataframe tbody tr th {\n",
              "        vertical-align: top;\n",
              "    }\n",
              "\n",
              "    .dataframe thead th {\n",
              "        text-align: right;\n",
              "    }\n",
              "</style>\n",
              "<table border=\"1\" class=\"dataframe\">\n",
              "  <thead>\n",
              "    <tr style=\"text-align: right;\">\n",
              "      <th></th>\n",
              "      <th>Default</th>\n",
              "      <th>student</th>\n",
              "      <th>Balance</th>\n",
              "    </tr>\n",
              "  </thead>\n",
              "  <tbody>\n",
              "    <tr>\n",
              "      <th>0</th>\n",
              "      <td>No</td>\n",
              "      <td>No</td>\n",
              "      <td>5099855.481650</td>\n",
              "    </tr>\n",
              "    <tr>\n",
              "      <th>1</th>\n",
              "      <td>No</td>\n",
              "      <td>Yes</td>\n",
              "      <td>2671868.751861</td>\n",
              "    </tr>\n",
              "    <tr>\n",
              "      <th>2</th>\n",
              "      <td>Yes</td>\n",
              "      <td>No</td>\n",
              "      <td>345756.477949</td>\n",
              "    </tr>\n",
              "    <tr>\n",
              "      <th>3</th>\n",
              "      <td>Yes</td>\n",
              "      <td>Yes</td>\n",
              "      <td>236268.144690</td>\n",
              "    </tr>\n",
              "  </tbody>\n",
              "</table>\n",
              "</div>"
            ],
            "text/plain": [
              "  Default student        Balance\n",
              "0      No      No 5099855.481650\n",
              "1      No     Yes 2671868.751861\n",
              "2     Yes      No  345756.477949\n",
              "3     Yes     Yes  236268.144690"
            ]
          },
          "metadata": {
            "tags": []
          },
          "execution_count": 29
        }
      ]
    },
    {
      "cell_type": "code",
      "metadata": {
        "id": "gzYR129EXEE6",
        "colab_type": "code",
        "colab": {
          "base_uri": "https://localhost:8080/",
          "height": 0
        },
        "outputId": "74557f45-3040-4247-e844-ac517a30f6b8"
      },
      "source": [
        "df.groupby('default')['balance'].sum().reset_index()"
      ],
      "execution_count": 30,
      "outputs": [
        {
          "output_type": "execute_result",
          "data": {
            "text/html": [
              "<div>\n",
              "<style scoped>\n",
              "    .dataframe tbody tr th:only-of-type {\n",
              "        vertical-align: middle;\n",
              "    }\n",
              "\n",
              "    .dataframe tbody tr th {\n",
              "        vertical-align: top;\n",
              "    }\n",
              "\n",
              "    .dataframe thead th {\n",
              "        text-align: right;\n",
              "    }\n",
              "</style>\n",
              "<table border=\"1\" class=\"dataframe\">\n",
              "  <thead>\n",
              "    <tr style=\"text-align: right;\">\n",
              "      <th></th>\n",
              "      <th>default</th>\n",
              "      <th>balance</th>\n",
              "    </tr>\n",
              "  </thead>\n",
              "  <tbody>\n",
              "    <tr>\n",
              "      <th>0</th>\n",
              "      <td>No</td>\n",
              "      <td>7771724.233510</td>\n",
              "    </tr>\n",
              "    <tr>\n",
              "      <th>1</th>\n",
              "      <td>Yes</td>\n",
              "      <td>582024.622639</td>\n",
              "    </tr>\n",
              "  </tbody>\n",
              "</table>\n",
              "</div>"
            ],
            "text/plain": [
              "  default        balance\n",
              "0      No 7771724.233510\n",
              "1     Yes  582024.622639"
            ]
          },
          "metadata": {
            "tags": []
          },
          "execution_count": 30
        }
      ]
    },
    {
      "cell_type": "code",
      "metadata": {
        "id": "Z0zMm2TlXEE9",
        "colab_type": "code",
        "colab": {
          "base_uri": "https://localhost:8080/",
          "height": 0
        },
        "outputId": "6fc72274-4ab8-4e58-ea4e-945726d0614c"
      },
      "source": [
        "sns.barplot(data=default, x='Default', y='Balance',hue='student')"
      ],
      "execution_count": 31,
      "outputs": [
        {
          "output_type": "execute_result",
          "data": {
            "text/plain": [
              "<matplotlib.axes._subplots.AxesSubplot at 0x7f32071a5f60>"
            ]
          },
          "metadata": {
            "tags": []
          },
          "execution_count": 31
        },
        {
          "output_type": "display_data",
          "data": {
            "image/png": "[encoded data removed]",
            "text/plain": [
              "<Figure size 432x288 with 1 Axes>"
            ]
          },
          "metadata": {
            "tags": [],
            "needs_background": "light"
          }
        }
      ]
    },
    {
      "cell_type": "markdown",
      "metadata": {
        "id": "km3Iz1ChXEFB",
        "colab_type": "text"
      },
      "source": [
        "We see that the total balance the people who haven't defaulted is 7771724 and for those who have defaulted is 582024. We also see that most of the people who haven't defaulted and have a high balance are **No**t students"
      ]
    },
    {
      "cell_type": "markdown",
      "metadata": {
        "id": "1E5qN-hjXEFC",
        "colab_type": "text"
      },
      "source": [
        "#### What's the income for the two classes ?"
      ]
    },
    {
      "cell_type": "code",
      "metadata": {
        "id": "SqmoYGCyXEFD",
        "colab_type": "code",
        "colab": {
          "base_uri": "https://localhost:8080/",
          "height": 0
        },
        "outputId": "1d2dfe9f-e862-42d3-a048-7e25773e5e3c"
      },
      "source": [
        "pd.set_option('float_format', '{:f}'.format) # in order to see the full figure instead of e raised to \n",
        "default_income = df.groupby(['default','student'])['income'].sum().reset_index() # Group by student and sum the balance and reset the index\n",
        "default_income.columns = ['Default','Student','Income'] # define the columns for the new data frame\n",
        "default_income = default_income.sort_values(by='Income',ascending=False) # sort by values and arrange from the largest\n",
        "default_income"
      ],
      "execution_count": 32,
      "outputs": [
        {
          "output_type": "execute_result",
          "data": {
            "text/html": [
              "<div>\n",
              "<style scoped>\n",
              "    .dataframe tbody tr th:only-of-type {\n",
              "        vertical-align: middle;\n",
              "    }\n",
              "\n",
              "    .dataframe tbody tr th {\n",
              "        vertical-align: top;\n",
              "    }\n",
              "\n",
              "    .dataframe thead th {\n",
              "        text-align: right;\n",
              "    }\n",
              "</style>\n",
              "<table border=\"1\" class=\"dataframe\">\n",
              "  <thead>\n",
              "    <tr style=\"text-align: right;\">\n",
              "      <th></th>\n",
              "      <th>Default</th>\n",
              "      <th>Student</th>\n",
              "      <th>Income</th>\n",
              "    </tr>\n",
              "  </thead>\n",
              "  <tbody>\n",
              "    <tr>\n",
              "      <th>0</th>\n",
              "      <td>No</td>\n",
              "      <td>No</td>\n",
              "      <td>273955578.919496</td>\n",
              "    </tr>\n",
              "    <tr>\n",
              "      <th>1</th>\n",
              "      <td>No</td>\n",
              "      <td>Yes</td>\n",
              "      <td>50528553.847708</td>\n",
              "    </tr>\n",
              "    <tr>\n",
              "      <th>2</th>\n",
              "      <td>Yes</td>\n",
              "      <td>No</td>\n",
              "      <td>8368760.438320</td>\n",
              "    </tr>\n",
              "    <tr>\n",
              "      <th>3</th>\n",
              "      <td>Yes</td>\n",
              "      <td>Yes</td>\n",
              "      <td>2316925.554049</td>\n",
              "    </tr>\n",
              "  </tbody>\n",
              "</table>\n",
              "</div>"
            ],
            "text/plain": [
              "  Default Student           Income\n",
              "0      No      No 273955578.919496\n",
              "1      No     Yes  50528553.847708\n",
              "2     Yes      No   8368760.438320\n",
              "3     Yes     Yes   2316925.554049"
            ]
          },
          "metadata": {
            "tags": []
          },
          "execution_count": 32
        }
      ]
    },
    {
      "cell_type": "code",
      "metadata": {
        "id": "gzbKjbbVXEFG",
        "colab_type": "code",
        "colab": {
          "base_uri": "https://localhost:8080/",
          "height": 0
        },
        "outputId": "9c983391-210e-4c49-fc37-499b01b33203"
      },
      "source": [
        "df.groupby('default')['income'].sum().reset_index()"
      ],
      "execution_count": 33,
      "outputs": [
        {
          "output_type": "execute_result",
          "data": {
            "text/html": [
              "<div>\n",
              "<style scoped>\n",
              "    .dataframe tbody tr th:only-of-type {\n",
              "        vertical-align: middle;\n",
              "    }\n",
              "\n",
              "    .dataframe tbody tr th {\n",
              "        vertical-align: top;\n",
              "    }\n",
              "\n",
              "    .dataframe thead th {\n",
              "        text-align: right;\n",
              "    }\n",
              "</style>\n",
              "<table border=\"1\" class=\"dataframe\">\n",
              "  <thead>\n",
              "    <tr style=\"text-align: right;\">\n",
              "      <th></th>\n",
              "      <th>default</th>\n",
              "      <th>income</th>\n",
              "    </tr>\n",
              "  </thead>\n",
              "  <tbody>\n",
              "    <tr>\n",
              "      <th>0</th>\n",
              "      <td>No</td>\n",
              "      <td>324484132.767204</td>\n",
              "    </tr>\n",
              "    <tr>\n",
              "      <th>1</th>\n",
              "      <td>Yes</td>\n",
              "      <td>10685685.992369</td>\n",
              "    </tr>\n",
              "  </tbody>\n",
              "</table>\n",
              "</div>"
            ],
            "text/plain": [
              "  default           income\n",
              "0      No 324484132.767204\n",
              "1     Yes  10685685.992369"
            ]
          },
          "metadata": {
            "tags": []
          },
          "execution_count": 33
        }
      ]
    },
    {
      "cell_type": "code",
      "metadata": {
        "id": "S7-X28GCXEFJ",
        "colab_type": "code",
        "colab": {
          "base_uri": "https://localhost:8080/",
          "height": 0
        },
        "outputId": "cda8d129-bc35-4365-8243-c963c874aef1"
      },
      "source": [
        "sns.barplot(data=default_income, x='Default', y='Income', hue='Student')"
      ],
      "execution_count": 34,
      "outputs": [
        {
          "output_type": "execute_result",
          "data": {
            "text/plain": [
              "<matplotlib.axes._subplots.AxesSubplot at 0x7f320712a160>"
            ]
          },
          "metadata": {
            "tags": []
          },
          "execution_count": 34
        },
        {
          "output_type": "display_data",
          "data": {
            "image/png": "[encoded data removed]",
            "text/plain": [
              "<Figure size 432x288 with 1 Axes>"
            ]
          },
          "metadata": {
            "tags": [],
            "needs_background": "light"
          }
        }
      ]
    },
    {
      "cell_type": "markdown",
      "metadata": {
        "id": "0SKpv_OuXEFN",
        "colab_type": "text"
      },
      "source": [
        "The total income for the people who have defaulted is 324484132 and for 10685686 for those who haven't defaulted.Most of those who have the highest income and haven't defaulted are **No**t student."
      ]
    },
    {
      "cell_type": "markdown",
      "metadata": {
        "id": "dzgXUWihXEFO",
        "colab_type": "text"
      },
      "source": [
        "#### Who has the highest amount of balance. Is it students or non-students?"
      ]
    },
    {
      "cell_type": "code",
      "metadata": {
        "id": "hyv2GUB7XEFP",
        "colab_type": "code",
        "colab": {
          "base_uri": "https://localhost:8080/",
          "height": 0
        },
        "outputId": "49b4c621-354f-44e0-88f4-5d0b931b17aa"
      },
      "source": [
        "pd.set_option('float_format', '{:f}'.format) # in order to see the full figure instead of e raised to \n",
        "loan_amount = df.groupby('student')['balance'].sum().reset_index() # Group by student and sum the balance and reset the index\n",
        "loan_amount.columns = ['Student','Balance'] # define the columns for the new data frame\n",
        "loan_amount = loan_amount.sort_values(by='Balance',ascending=False) # sort by values and arrange from the largest\n",
        "loan_amount"
      ],
      "execution_count": 35,
      "outputs": [
        {
          "output_type": "execute_result",
          "data": {
            "text/html": [
              "<div>\n",
              "<style scoped>\n",
              "    .dataframe tbody tr th:only-of-type {\n",
              "        vertical-align: middle;\n",
              "    }\n",
              "\n",
              "    .dataframe tbody tr th {\n",
              "        vertical-align: top;\n",
              "    }\n",
              "\n",
              "    .dataframe thead th {\n",
              "        text-align: right;\n",
              "    }\n",
              "</style>\n",
              "<table border=\"1\" class=\"dataframe\">\n",
              "  <thead>\n",
              "    <tr style=\"text-align: right;\">\n",
              "      <th></th>\n",
              "      <th>Student</th>\n",
              "      <th>Balance</th>\n",
              "    </tr>\n",
              "  </thead>\n",
              "  <tbody>\n",
              "    <tr>\n",
              "      <th>0</th>\n",
              "      <td>No</td>\n",
              "      <td>5445611.959599</td>\n",
              "    </tr>\n",
              "    <tr>\n",
              "      <th>1</th>\n",
              "      <td>Yes</td>\n",
              "      <td>2908136.896551</td>\n",
              "    </tr>\n",
              "  </tbody>\n",
              "</table>\n",
              "</div>"
            ],
            "text/plain": [
              "  Student        Balance\n",
              "0      No 5445611.959599\n",
              "1     Yes 2908136.896551"
            ]
          },
          "metadata": {
            "tags": []
          },
          "execution_count": 35
        }
      ]
    },
    {
      "cell_type": "code",
      "metadata": {
        "id": "ah1oTYDFXEFV",
        "colab_type": "code",
        "colab": {
          "base_uri": "https://localhost:8080/",
          "height": 0
        },
        "outputId": "429013e3-2245-4b10-c930-215881a09996"
      },
      "source": [
        "sns.barplot(data=loan_amount, x='Student', y='Balance')"
      ],
      "execution_count": 36,
      "outputs": [
        {
          "output_type": "execute_result",
          "data": {
            "text/plain": [
              "<matplotlib.axes._subplots.AxesSubplot at 0x7f320707bd30>"
            ]
          },
          "metadata": {
            "tags": []
          },
          "execution_count": 36
        },
        {
          "output_type": "display_data",
          "data": {
            "image/png": "[encoded data removed]",
            "text/plain": [
              "<Figure size 432x288 with 1 Axes>"
            ]
          },
          "metadata": {
            "tags": [],
            "needs_background": "light"
          }
        }
      ]
    },
    {
      "cell_type": "markdown",
      "metadata": {
        "id": "D9FYOkYZXEFZ",
        "colab_type": "text"
      },
      "source": [
        "Surprisingly the people with the most balance are not students."
      ]
    },
    {
      "cell_type": "markdown",
      "metadata": {
        "id": "ZykAu2B3XEFZ",
        "colab_type": "text"
      },
      "source": [
        "#### Who has the highest amount of income. Is it students or non-students?"
      ]
    },
    {
      "cell_type": "markdown",
      "metadata": {
        "id": "wT2oABY5XEFa",
        "colab_type": "text"
      },
      "source": [
        "Let's now perform a similar operation on the income"
      ]
    },
    {
      "cell_type": "code",
      "metadata": {
        "id": "j46cJ6kVXEFa",
        "colab_type": "code",
        "colab": {
          "base_uri": "https://localhost:8080/",
          "height": 0
        },
        "outputId": "b0cbf03a-f153-42c0-eff3-f72628a3721a"
      },
      "source": [
        "pd.set_option('float_format', '{:f}'.format) # in order to see the full figure instead of e raised to \n",
        "income_amount = df.groupby('student')['income'].sum().reset_index() # Group by student and sum the income and reset the index\n",
        "income_amount.columns = ['Student','Income'] # define the columns for the new data frame\n",
        "income_amount = income_amount.sort_values(by='Income',ascending=False) # sort by values and arrange from the largest\n",
        "income_amount"
      ],
      "execution_count": 37,
      "outputs": [
        {
          "output_type": "execute_result",
          "data": {
            "text/html": [
              "<div>\n",
              "<style scoped>\n",
              "    .dataframe tbody tr th:only-of-type {\n",
              "        vertical-align: middle;\n",
              "    }\n",
              "\n",
              "    .dataframe tbody tr th {\n",
              "        vertical-align: top;\n",
              "    }\n",
              "\n",
              "    .dataframe thead th {\n",
              "        text-align: right;\n",
              "    }\n",
              "</style>\n",
              "<table border=\"1\" class=\"dataframe\">\n",
              "  <thead>\n",
              "    <tr style=\"text-align: right;\">\n",
              "      <th></th>\n",
              "      <th>Student</th>\n",
              "      <th>Income</th>\n",
              "    </tr>\n",
              "  </thead>\n",
              "  <tbody>\n",
              "    <tr>\n",
              "      <th>0</th>\n",
              "      <td>No</td>\n",
              "      <td>282324339.357816</td>\n",
              "    </tr>\n",
              "    <tr>\n",
              "      <th>1</th>\n",
              "      <td>Yes</td>\n",
              "      <td>52845479.401757</td>\n",
              "    </tr>\n",
              "  </tbody>\n",
              "</table>\n",
              "</div>"
            ],
            "text/plain": [
              "  Student           Income\n",
              "0      No 282324339.357816\n",
              "1     Yes  52845479.401757"
            ]
          },
          "metadata": {
            "tags": []
          },
          "execution_count": 37
        }
      ]
    },
    {
      "cell_type": "code",
      "metadata": {
        "id": "eJHdMwDbXEFj",
        "colab_type": "code",
        "colab": {
          "base_uri": "https://localhost:8080/",
          "height": 0
        },
        "outputId": "545b58a6-52cc-4759-cd7b-d26cfbd2ef7b"
      },
      "source": [
        "sns.barplot(data=income_amount, x='Student', y='Income')"
      ],
      "execution_count": 38,
      "outputs": [
        {
          "output_type": "execute_result",
          "data": {
            "text/plain": [
              "<matplotlib.axes._subplots.AxesSubplot at 0x7f3208c5a358>"
            ]
          },
          "metadata": {
            "tags": []
          },
          "execution_count": 38
        },
        {
          "output_type": "display_data",
          "data": {
            "image/png": "[encoded data removed]",
            "text/plain": [
              "<Figure size 432x288 with 1 Axes>"
            ]
          },
          "metadata": {
            "tags": [],
            "needs_background": "light"
          }
        }
      ]
    },
    {
      "cell_type": "markdown",
      "metadata": {
        "id": "pXn6XErAXEFq",
        "colab_type": "text"
      },
      "source": [
        "The people with the most income are not students yet they are the people with the most balance.This could be because the people with most income also have the biggest borrowing muscle because they are more credit worth. "
      ]
    },
    {
      "cell_type": "markdown",
      "metadata": {
        "id": "rRTp0C9jXEFr",
        "colab_type": "text"
      },
      "source": [
        "#### Relationship between the income and balance."
      ]
    },
    {
      "cell_type": "code",
      "metadata": {
        "id": "PN9vWOpIXEFr",
        "colab_type": "code",
        "colab": {
          "base_uri": "https://localhost:8080/",
          "height": 0
        },
        "outputId": "a6577731-e8e1-4054-ff2b-d4aba86619dc"
      },
      "source": [
        "sns.jointplot(data = df, x = df['income'], y = df['balance'])"
      ],
      "execution_count": 39,
      "outputs": [
        {
          "output_type": "execute_result",
          "data": {
            "text/plain": [
              "<seaborn.axisgrid.JointGrid at 0x7f32072407f0>"
            ]
          },
          "metadata": {
            "tags": []
          },
          "execution_count": 39
        },
        {
          "output_type": "display_data",
          "data": {
            "image/png": "[encoded data removed]",
            "text/plain": [
              "<Figure size 432x432 with 3 Axes>"
            ]
          },
          "metadata": {
            "tags": [],
            "needs_background": "light"
          }
        }
      ]
    },
    {
      "cell_type": "code",
      "metadata": {
        "id": "g6lh9wzYXEFu",
        "colab_type": "code",
        "colab": {
          "base_uri": "https://localhost:8080/",
          "height": 0
        },
        "outputId": "1438fa80-b57d-406c-8a3a-37adabf1e3ed"
      },
      "source": [
        "df['income'].corr(df['balance'])"
      ],
      "execution_count": 40,
      "outputs": [
        {
          "output_type": "execute_result",
          "data": {
            "text/plain": [
              "-0.1522434005865672"
            ]
          },
          "metadata": {
            "tags": []
          },
          "execution_count": 40
        }
      ]
    },
    {
      "cell_type": "code",
      "metadata": {
        "id": "-chSbrO6XEFy",
        "colab_type": "code",
        "colab": {
          "base_uri": "https://localhost:8080/",
          "height": 0
        },
        "outputId": "e79b03bc-7e41-428c-a58b-155d1837a466"
      },
      "source": [
        "import scipy.stats  as stats\n",
        "stats.pearsonr(df['income'], df['balance'])"
      ],
      "execution_count": 41,
      "outputs": [
        {
          "output_type": "execute_result",
          "data": {
            "text/plain": [
              "(-0.15224340058656724, 6.380440176588157e-53)"
            ]
          },
          "metadata": {
            "tags": []
          },
          "execution_count": 41
        }
      ]
    },
    {
      "cell_type": "markdown",
      "metadata": {
        "id": "cOqUyugcXEF5",
        "colab_type": "text"
      },
      "source": [
        "We can see that there is a negative correlation of about 15% between the income and the balance. This means that as income increases the balance decreases. The 2-tailed p-value being less that 0.05 also suggest the same thing."
      ]
    },
    {
      "cell_type": "markdown",
      "metadata": {
        "id": "L_eYm0_BXEF6",
        "colab_type": "text"
      },
      "source": [
        "### Average Income of Defaulters and Non defaulters"
      ]
    },
    {
      "cell_type": "code",
      "metadata": {
        "id": "1_fZDgYhXEF7",
        "colab_type": "code",
        "colab": {
          "base_uri": "https://localhost:8080/",
          "height": 0
        },
        "outputId": "2e957f15-1b9a-477a-ef9f-b96b6b0a719e"
      },
      "source": [
        "average_income = df.groupby('default')['income'].mean().reset_index() # Group by student and sum the income and reset the index\n",
        "average_income.columns = ['Default','Mean'] # define the columns for the new data frame\n",
        "average_income = average_income.sort_values(by='Mean',ascending=False) # sort by values and arrange from the largest\n",
        "average_income"
      ],
      "execution_count": 42,
      "outputs": [
        {
          "output_type": "execute_result",
          "data": {
            "text/html": [
              "<div>\n",
              "<style scoped>\n",
              "    .dataframe tbody tr th:only-of-type {\n",
              "        vertical-align: middle;\n",
              "    }\n",
              "\n",
              "    .dataframe tbody tr th {\n",
              "        vertical-align: top;\n",
              "    }\n",
              "\n",
              "    .dataframe thead th {\n",
              "        text-align: right;\n",
              "    }\n",
              "</style>\n",
              "<table border=\"1\" class=\"dataframe\">\n",
              "  <thead>\n",
              "    <tr style=\"text-align: right;\">\n",
              "      <th></th>\n",
              "      <th>Default</th>\n",
              "      <th>Mean</th>\n",
              "    </tr>\n",
              "  </thead>\n",
              "  <tbody>\n",
              "    <tr>\n",
              "      <th>0</th>\n",
              "      <td>No</td>\n",
              "      <td>33566.166625</td>\n",
              "    </tr>\n",
              "    <tr>\n",
              "      <th>1</th>\n",
              "      <td>Yes</td>\n",
              "      <td>32089.147124</td>\n",
              "    </tr>\n",
              "  </tbody>\n",
              "</table>\n",
              "</div>"
            ],
            "text/plain": [
              "  Default         Mean\n",
              "0      No 33566.166625\n",
              "1     Yes 32089.147124"
            ]
          },
          "metadata": {
            "tags": []
          },
          "execution_count": 42
        }
      ]
    },
    {
      "cell_type": "markdown",
      "metadata": {
        "id": "v2-odGRzXEGA",
        "colab_type": "text"
      },
      "source": [
        "### Relationship Between Defaulting and Being a Student"
      ]
    },
    {
      "cell_type": "markdown",
      "metadata": {
        "id": "FZYrV6zbXEGA",
        "colab_type": "text"
      },
      "source": [
        "H0:There is no statistically significant relationship between defaulting and being a student.\n",
        "\n",
        "H1:There is a statistically significant relationship between defaulting and being a student."
      ]
    },
    {
      "cell_type": "code",
      "metadata": {
        "id": "CMLSeoN7XEGB",
        "colab_type": "code",
        "colab": {
          "base_uri": "https://localhost:8080/",
          "height": 0
        },
        "outputId": "44af0c9a-457e-40c1-c1e1-1419c2b74e47"
      },
      "source": [
        "contingency_table = pd.crosstab(\n",
        "    df['default'],\n",
        "    df['student'],\n",
        "    margins = True\n",
        ")\n",
        "contingency_table"
      ],
      "execution_count": 43,
      "outputs": [
        {
          "output_type": "execute_result",
          "data": {
            "text/html": [
              "<div>\n",
              "<style scoped>\n",
              "    .dataframe tbody tr th:only-of-type {\n",
              "        vertical-align: middle;\n",
              "    }\n",
              "\n",
              "    .dataframe tbody tr th {\n",
              "        vertical-align: top;\n",
              "    }\n",
              "\n",
              "    .dataframe thead th {\n",
              "        text-align: right;\n",
              "    }\n",
              "</style>\n",
              "<table border=\"1\" class=\"dataframe\">\n",
              "  <thead>\n",
              "    <tr style=\"text-align: right;\">\n",
              "      <th>student</th>\n",
              "      <th>No</th>\n",
              "      <th>Yes</th>\n",
              "      <th>All</th>\n",
              "    </tr>\n",
              "    <tr>\n",
              "      <th>default</th>\n",
              "      <th></th>\n",
              "      <th></th>\n",
              "      <th></th>\n",
              "    </tr>\n",
              "  </thead>\n",
              "  <tbody>\n",
              "    <tr>\n",
              "      <th>No</th>\n",
              "      <td>6850</td>\n",
              "      <td>2817</td>\n",
              "      <td>9667</td>\n",
              "    </tr>\n",
              "    <tr>\n",
              "      <th>Yes</th>\n",
              "      <td>206</td>\n",
              "      <td>127</td>\n",
              "      <td>333</td>\n",
              "    </tr>\n",
              "    <tr>\n",
              "      <th>All</th>\n",
              "      <td>7056</td>\n",
              "      <td>2944</td>\n",
              "      <td>10000</td>\n",
              "    </tr>\n",
              "  </tbody>\n",
              "</table>\n",
              "</div>"
            ],
            "text/plain": [
              "student    No   Yes    All\n",
              "default                   \n",
              "No       6850  2817   9667\n",
              "Yes       206   127    333\n",
              "All      7056  2944  10000"
            ]
          },
          "metadata": {
            "tags": []
          },
          "execution_count": 43
        }
      ]
    },
    {
      "cell_type": "code",
      "metadata": {
        "id": "CnVQnXQCXEGG",
        "colab_type": "code",
        "colab": {}
      },
      "source": [
        "from scipy.stats import chi2_contingency"
      ],
      "execution_count": 0,
      "outputs": []
    },
    {
      "cell_type": "code",
      "metadata": {
        "id": "6NVXH078XEGJ",
        "colab_type": "code",
        "colab": {
          "base_uri": "https://localhost:8080/",
          "height": 0
        },
        "outputId": "c03dc6b5-4b9a-4f79-b44f-894302427d16"
      },
      "source": [
        "f_obs = np.array([contingency_table.iloc[0][0:2].values,contingency_table.iloc[1][0:2].values])\n",
        "f_obs"
      ],
      "execution_count": 45,
      "outputs": [
        {
          "output_type": "execute_result",
          "data": {
            "text/plain": [
              "array([[6850, 2817],\n",
              "       [ 206,  127]])"
            ]
          },
          "metadata": {
            "tags": []
          },
          "execution_count": 45
        }
      ]
    },
    {
      "cell_type": "code",
      "metadata": {
        "id": "2cEYS2_PXEGM",
        "colab_type": "code",
        "colab": {}
      },
      "source": [
        "chi2, p, dof, ex = chi2_contingency(f_obs)"
      ],
      "execution_count": 0,
      "outputs": []
    },
    {
      "cell_type": "code",
      "metadata": {
        "id": "h_SOdCYyXEGP",
        "colab_type": "code",
        "colab": {
          "base_uri": "https://localhost:8080/",
          "height": 0
        },
        "outputId": "d65e5a44-0cea-4573-bc93-d143cefdcedd"
      },
      "source": [
        "chi2, p"
      ],
      "execution_count": 47,
      "outputs": [
        {
          "output_type": "execute_result",
          "data": {
            "text/plain": [
              "(12.1166885136231, 0.0004997256756210486)"
            ]
          },
          "metadata": {
            "tags": []
          },
          "execution_count": 47
        }
      ]
    },
    {
      "cell_type": "markdown",
      "metadata": {
        "id": "p67L04zTXEGT",
        "colab_type": "text"
      },
      "source": [
        "Our p-value < 00.05 we therefore reject the null hypothesis and conclude that there is an relationship between the default rate and being a student."
      ]
    },
    {
      "cell_type": "markdown",
      "metadata": {
        "id": "ygpzhISwXEGU",
        "colab_type": "text"
      },
      "source": [
        "###  Income of both defaulters and non defaulters are the same\n",
        "Ho The mean income of defaulters are  are equal.\n",
        "\n",
        "H1 The mean income of defaulters are  not are equal.\n"
      ]
    },
    {
      "cell_type": "code",
      "metadata": {
        "id": "WsffHbGKXEGX",
        "colab_type": "code",
        "colab": {}
      },
      "source": [
        "from scipy.stats import ttest_ind"
      ],
      "execution_count": 0,
      "outputs": []
    },
    {
      "cell_type": "code",
      "metadata": {
        "id": "Wc2eild6XEGZ",
        "colab_type": "code",
        "colab": {}
      },
      "source": [
        "defaulters = df[df['default'] == 'Yes']['income']"
      ],
      "execution_count": 0,
      "outputs": []
    },
    {
      "cell_type": "code",
      "metadata": {
        "id": "bK83NAMpXEGe",
        "colab_type": "code",
        "colab": {}
      },
      "source": [
        "non_defaulters = df[df['default'] == 'No']['income']"
      ],
      "execution_count": 0,
      "outputs": []
    },
    {
      "cell_type": "code",
      "metadata": {
        "id": "qWdwA6KjXEGh",
        "colab_type": "code",
        "colab": {
          "base_uri": "https://localhost:8080/",
          "height": 0
        },
        "outputId": "fcd275f8-32ce-4d1d-bcfb-a51423b0eebc"
      },
      "source": [
        "df[df['default'] == 'Yes']"
      ],
      "execution_count": 51,
      "outputs": [
        {
          "output_type": "execute_result",
          "data": {
            "text/html": [
              "<div>\n",
              "<style scoped>\n",
              "    .dataframe tbody tr th:only-of-type {\n",
              "        vertical-align: middle;\n",
              "    }\n",
              "\n",
              "    .dataframe tbody tr th {\n",
              "        vertical-align: top;\n",
              "    }\n",
              "\n",
              "    .dataframe thead th {\n",
              "        text-align: right;\n",
              "    }\n",
              "</style>\n",
              "<table border=\"1\" class=\"dataframe\">\n",
              "  <thead>\n",
              "    <tr style=\"text-align: right;\">\n",
              "      <th></th>\n",
              "      <th>default</th>\n",
              "      <th>student</th>\n",
              "      <th>balance</th>\n",
              "      <th>income</th>\n",
              "    </tr>\n",
              "  </thead>\n",
              "  <tbody>\n",
              "    <tr>\n",
              "      <th>137</th>\n",
              "      <td>Yes</td>\n",
              "      <td>Yes</td>\n",
              "      <td>1486.998122</td>\n",
              "      <td>17854.397030</td>\n",
              "    </tr>\n",
              "    <tr>\n",
              "      <th>174</th>\n",
              "      <td>Yes</td>\n",
              "      <td>Yes</td>\n",
              "      <td>2205.799521</td>\n",
              "      <td>14271.492250</td>\n",
              "    </tr>\n",
              "    <tr>\n",
              "      <th>202</th>\n",
              "      <td>Yes</td>\n",
              "      <td>Yes</td>\n",
              "      <td>1774.694223</td>\n",
              "      <td>20359.506090</td>\n",
              "    </tr>\n",
              "    <tr>\n",
              "      <th>207</th>\n",
              "      <td>Yes</td>\n",
              "      <td>No</td>\n",
              "      <td>1889.599190</td>\n",
              "      <td>48956.171590</td>\n",
              "    </tr>\n",
              "    <tr>\n",
              "      <th>210</th>\n",
              "      <td>Yes</td>\n",
              "      <td>Yes</td>\n",
              "      <td>1899.390626</td>\n",
              "      <td>20655.200000</td>\n",
              "    </tr>\n",
              "    <tr>\n",
              "      <th>...</th>\n",
              "      <td>...</td>\n",
              "      <td>...</td>\n",
              "      <td>...</td>\n",
              "      <td>...</td>\n",
              "    </tr>\n",
              "    <tr>\n",
              "      <th>9913</th>\n",
              "      <td>Yes</td>\n",
              "      <td>No</td>\n",
              "      <td>2148.898454</td>\n",
              "      <td>44309.917170</td>\n",
              "    </tr>\n",
              "    <tr>\n",
              "      <th>9922</th>\n",
              "      <td>Yes</td>\n",
              "      <td>Yes</td>\n",
              "      <td>1627.898323</td>\n",
              "      <td>17546.997020</td>\n",
              "    </tr>\n",
              "    <tr>\n",
              "      <th>9950</th>\n",
              "      <td>Yes</td>\n",
              "      <td>No</td>\n",
              "      <td>1750.253150</td>\n",
              "      <td>51578.940160</td>\n",
              "    </tr>\n",
              "    <tr>\n",
              "      <th>9952</th>\n",
              "      <td>Yes</td>\n",
              "      <td>No</td>\n",
              "      <td>1515.606239</td>\n",
              "      <td>48688.512090</td>\n",
              "    </tr>\n",
              "    <tr>\n",
              "      <th>9979</th>\n",
              "      <td>Yes</td>\n",
              "      <td>No</td>\n",
              "      <td>2202.462395</td>\n",
              "      <td>47287.257110</td>\n",
              "    </tr>\n",
              "  </tbody>\n",
              "</table>\n",
              "<p>333 rows × 4 columns</p>\n",
              "</div>"
            ],
            "text/plain": [
              "     default student     balance       income\n",
              "137      Yes     Yes 1486.998122 17854.397030\n",
              "174      Yes     Yes 2205.799521 14271.492250\n",
              "202      Yes     Yes 1774.694223 20359.506090\n",
              "207      Yes      No 1889.599190 48956.171590\n",
              "210      Yes     Yes 1899.390626 20655.200000\n",
              "...      ...     ...         ...          ...\n",
              "9913     Yes      No 2148.898454 44309.917170\n",
              "9922     Yes     Yes 1627.898323 17546.997020\n",
              "9950     Yes      No 1750.253150 51578.940160\n",
              "9952     Yes      No 1515.606239 48688.512090\n",
              "9979     Yes      No 2202.462395 47287.257110\n",
              "\n",
              "[333 rows x 4 columns]"
            ]
          },
          "metadata": {
            "tags": []
          },
          "execution_count": 51
        }
      ]
    },
    {
      "cell_type": "code",
      "metadata": {
        "id": "U0ZxfVTBXEGq",
        "colab_type": "code",
        "colab": {
          "base_uri": "https://localhost:8080/",
          "height": 0
        },
        "outputId": "b894e5db-68bb-4b55-9a06-fdbf028bb71f"
      },
      "source": [
        "ttest_ind(defaulters,non_defaulters)"
      ],
      "execution_count": 52,
      "outputs": [
        {
          "output_type": "execute_result",
          "data": {
            "text/plain": [
              "Ttest_indResult(statistic=-1.987338454885802, pvalue=0.046912142143412355)"
            ]
          },
          "metadata": {
            "tags": []
          },
          "execution_count": 52
        }
      ]
    },
    {
      "cell_type": "markdown",
      "metadata": {
        "id": "57OL8gFXXEGu",
        "colab_type": "text"
      },
      "source": [
        "Since our p value < 0.05 we reject the null hypothesis and conclude that the mean of the defaulters and non-defaulters are not equal."
      ]
    },
    {
      "cell_type": "markdown",
      "metadata": {
        "id": "8hlxnP4pXEGv",
        "colab_type": "text"
      },
      "source": [
        "## Feature Engineering"
      ]
    },
    {
      "cell_type": "markdown",
      "metadata": {
        "id": "7SDVn9UOXEGw",
        "colab_type": "text"
      },
      "source": [
        "I would like to see the ratio of the balance and the income."
      ]
    },
    {
      "cell_type": "code",
      "metadata": {
        "id": "Qz0XmHPXXEGw",
        "colab_type": "code",
        "colab": {}
      },
      "source": [
        "def divide(x):\n",
        "    balance,income = x[0],x[1]\n",
        "    if balance != 0:\n",
        "        return (income / balance)\n",
        "    return 0\n"
      ],
      "execution_count": 0,
      "outputs": []
    },
    {
      "cell_type": "code",
      "metadata": {
        "id": "5JAXZKK6XEG2",
        "colab_type": "code",
        "colab": {}
      },
      "source": [
        "df['bal_income_ratio'] = df[['balance','income']].apply(divide,axis=1)"
      ],
      "execution_count": 0,
      "outputs": []
    },
    {
      "cell_type": "code",
      "metadata": {
        "id": "pNyTgyTWXEG9",
        "colab_type": "code",
        "colab": {
          "base_uri": "https://localhost:8080/",
          "height": 204
        },
        "outputId": "1c17afaa-92cb-4f3b-c384-029d2f2ae145"
      },
      "source": [
        "df.head()"
      ],
      "execution_count": 55,
      "outputs": [
        {
          "output_type": "execute_result",
          "data": {
            "text/html": [
              "<div>\n",
              "<style scoped>\n",
              "    .dataframe tbody tr th:only-of-type {\n",
              "        vertical-align: middle;\n",
              "    }\n",
              "\n",
              "    .dataframe tbody tr th {\n",
              "        vertical-align: top;\n",
              "    }\n",
              "\n",
              "    .dataframe thead th {\n",
              "        text-align: right;\n",
              "    }\n",
              "</style>\n",
              "<table border=\"1\" class=\"dataframe\">\n",
              "  <thead>\n",
              "    <tr style=\"text-align: right;\">\n",
              "      <th></th>\n",
              "      <th>default</th>\n",
              "      <th>student</th>\n",
              "      <th>balance</th>\n",
              "      <th>income</th>\n",
              "      <th>bal_income_ratio</th>\n",
              "    </tr>\n",
              "  </thead>\n",
              "  <tbody>\n",
              "    <tr>\n",
              "      <th>1</th>\n",
              "      <td>No</td>\n",
              "      <td>No</td>\n",
              "      <td>729.526495</td>\n",
              "      <td>44361.625070</td>\n",
              "      <td>60.808792</td>\n",
              "    </tr>\n",
              "    <tr>\n",
              "      <th>2</th>\n",
              "      <td>No</td>\n",
              "      <td>Yes</td>\n",
              "      <td>817.180407</td>\n",
              "      <td>12106.134700</td>\n",
              "      <td>14.814519</td>\n",
              "    </tr>\n",
              "    <tr>\n",
              "      <th>3</th>\n",
              "      <td>No</td>\n",
              "      <td>No</td>\n",
              "      <td>1073.549164</td>\n",
              "      <td>31767.138950</td>\n",
              "      <td>29.590763</td>\n",
              "    </tr>\n",
              "    <tr>\n",
              "      <th>4</th>\n",
              "      <td>No</td>\n",
              "      <td>No</td>\n",
              "      <td>529.250605</td>\n",
              "      <td>35704.493940</td>\n",
              "      <td>67.462358</td>\n",
              "    </tr>\n",
              "    <tr>\n",
              "      <th>5</th>\n",
              "      <td>No</td>\n",
              "      <td>No</td>\n",
              "      <td>785.655883</td>\n",
              "      <td>38463.495880</td>\n",
              "      <td>48.957179</td>\n",
              "    </tr>\n",
              "  </tbody>\n",
              "</table>\n",
              "</div>"
            ],
            "text/plain": [
              "  default student     balance       income  bal_income_ratio\n",
              "1      No      No  729.526495 44361.625070         60.808792\n",
              "2      No     Yes  817.180407 12106.134700         14.814519\n",
              "3      No      No 1073.549164 31767.138950         29.590763\n",
              "4      No      No  529.250605 35704.493940         67.462358\n",
              "5      No      No  785.655883 38463.495880         48.957179"
            ]
          },
          "metadata": {
            "tags": []
          },
          "execution_count": 55
        }
      ]
    },
    {
      "cell_type": "markdown",
      "metadata": {
        "id": "oU4mzWcqXEHC",
        "colab_type": "text"
      },
      "source": [
        "## Develop a model to predict the probability of defaulting.\n"
      ]
    },
    {
      "cell_type": "markdown",
      "metadata": {
        "id": "gVR_h2vjXEHD",
        "colab_type": "text"
      },
      "source": [
        "We'll start by importing train_test_split that we'll use to split our dataset into a training and test set"
      ]
    },
    {
      "cell_type": "code",
      "metadata": {
        "id": "8eD3119tXEHD",
        "colab_type": "code",
        "colab": {}
      },
      "source": [
        "from sklearn.model_selection import train_test_split"
      ],
      "execution_count": 0,
      "outputs": []
    },
    {
      "cell_type": "markdown",
      "metadata": {
        "id": "qYVJCHz0XEHH",
        "colab_type": "text"
      },
      "source": [
        "Next, we convert the default and student column into dummy variables because our model will only take numerical figures. We also drop the first dummy variable so that we don't fall into the dummy variable trap"
      ]
    },
    {
      "cell_type": "code",
      "metadata": {
        "id": "xv8OdT3nXEHI",
        "colab_type": "code",
        "colab": {}
      },
      "source": [
        "feats = ['default','student']"
      ],
      "execution_count": 0,
      "outputs": []
    },
    {
      "cell_type": "code",
      "metadata": {
        "id": "RwwVw1LBXEHL",
        "colab_type": "code",
        "colab": {}
      },
      "source": [
        "df_final = pd.get_dummies(df,columns=feats,drop_first=True)"
      ],
      "execution_count": 0,
      "outputs": []
    },
    {
      "cell_type": "code",
      "metadata": {
        "id": "j0gIb3NRXEHO",
        "colab_type": "code",
        "colab": {
          "base_uri": "https://localhost:8080/",
          "height": 204
        },
        "outputId": "cda5c68d-8e1a-4d5d-cedb-fab7ac7411e7"
      },
      "source": [
        "df_final.head()"
      ],
      "execution_count": 59,
      "outputs": [
        {
          "output_type": "execute_result",
          "data": {
            "text/html": [
              "<div>\n",
              "<style scoped>\n",
              "    .dataframe tbody tr th:only-of-type {\n",
              "        vertical-align: middle;\n",
              "    }\n",
              "\n",
              "    .dataframe tbody tr th {\n",
              "        vertical-align: top;\n",
              "    }\n",
              "\n",
              "    .dataframe thead th {\n",
              "        text-align: right;\n",
              "    }\n",
              "</style>\n",
              "<table border=\"1\" class=\"dataframe\">\n",
              "  <thead>\n",
              "    <tr style=\"text-align: right;\">\n",
              "      <th></th>\n",
              "      <th>balance</th>\n",
              "      <th>income</th>\n",
              "      <th>bal_income_ratio</th>\n",
              "      <th>default_Yes</th>\n",
              "      <th>student_Yes</th>\n",
              "    </tr>\n",
              "  </thead>\n",
              "  <tbody>\n",
              "    <tr>\n",
              "      <th>1</th>\n",
              "      <td>729.526495</td>\n",
              "      <td>44361.625070</td>\n",
              "      <td>60.808792</td>\n",
              "      <td>0</td>\n",
              "      <td>0</td>\n",
              "    </tr>\n",
              "    <tr>\n",
              "      <th>2</th>\n",
              "      <td>817.180407</td>\n",
              "      <td>12106.134700</td>\n",
              "      <td>14.814519</td>\n",
              "      <td>0</td>\n",
              "      <td>1</td>\n",
              "    </tr>\n",
              "    <tr>\n",
              "      <th>3</th>\n",
              "      <td>1073.549164</td>\n",
              "      <td>31767.138950</td>\n",
              "      <td>29.590763</td>\n",
              "      <td>0</td>\n",
              "      <td>0</td>\n",
              "    </tr>\n",
              "    <tr>\n",
              "      <th>4</th>\n",
              "      <td>529.250605</td>\n",
              "      <td>35704.493940</td>\n",
              "      <td>67.462358</td>\n",
              "      <td>0</td>\n",
              "      <td>0</td>\n",
              "    </tr>\n",
              "    <tr>\n",
              "      <th>5</th>\n",
              "      <td>785.655883</td>\n",
              "      <td>38463.495880</td>\n",
              "      <td>48.957179</td>\n",
              "      <td>0</td>\n",
              "      <td>0</td>\n",
              "    </tr>\n",
              "  </tbody>\n",
              "</table>\n",
              "</div>"
            ],
            "text/plain": [
              "      balance       income  bal_income_ratio  default_Yes  student_Yes\n",
              "1  729.526495 44361.625070         60.808792            0            0\n",
              "2  817.180407 12106.134700         14.814519            0            1\n",
              "3 1073.549164 31767.138950         29.590763            0            0\n",
              "4  529.250605 35704.493940         67.462358            0            0\n",
              "5  785.655883 38463.495880         48.957179            0            0"
            ]
          },
          "metadata": {
            "tags": []
          },
          "execution_count": 59
        }
      ]
    },
    {
      "cell_type": "code",
      "metadata": {
        "id": "NBiw1LTsXEHR",
        "colab_type": "code",
        "colab": {
          "base_uri": "https://localhost:8080/",
          "height": 297
        },
        "outputId": "157d0b0d-35f5-4147-83e2-dd4aeaff1537"
      },
      "source": [
        "df_final.describe()"
      ],
      "execution_count": 60,
      "outputs": [
        {
          "output_type": "execute_result",
          "data": {
            "text/html": [
              "<div>\n",
              "<style scoped>\n",
              "    .dataframe tbody tr th:only-of-type {\n",
              "        vertical-align: middle;\n",
              "    }\n",
              "\n",
              "    .dataframe tbody tr th {\n",
              "        vertical-align: top;\n",
              "    }\n",
              "\n",
              "    .dataframe thead th {\n",
              "        text-align: right;\n",
              "    }\n",
              "</style>\n",
              "<table border=\"1\" class=\"dataframe\">\n",
              "  <thead>\n",
              "    <tr style=\"text-align: right;\">\n",
              "      <th></th>\n",
              "      <th>balance</th>\n",
              "      <th>income</th>\n",
              "      <th>bal_income_ratio</th>\n",
              "      <th>default_Yes</th>\n",
              "      <th>student_Yes</th>\n",
              "    </tr>\n",
              "  </thead>\n",
              "  <tbody>\n",
              "    <tr>\n",
              "      <th>count</th>\n",
              "      <td>10000.000000</td>\n",
              "      <td>10000.000000</td>\n",
              "      <td>10000.000000</td>\n",
              "      <td>10000.000000</td>\n",
              "      <td>10000.000000</td>\n",
              "    </tr>\n",
              "    <tr>\n",
              "      <th>mean</th>\n",
              "      <td>835.374886</td>\n",
              "      <td>33516.981876</td>\n",
              "      <td>261.887044</td>\n",
              "      <td>0.033300</td>\n",
              "      <td>0.294400</td>\n",
              "    </tr>\n",
              "    <tr>\n",
              "      <th>std</th>\n",
              "      <td>483.714985</td>\n",
              "      <td>13336.639563</td>\n",
              "      <td>15973.871274</td>\n",
              "      <td>0.179428</td>\n",
              "      <td>0.455795</td>\n",
              "    </tr>\n",
              "    <tr>\n",
              "      <th>min</th>\n",
              "      <td>0.000000</td>\n",
              "      <td>771.967729</td>\n",
              "      <td>0.000000</td>\n",
              "      <td>0.000000</td>\n",
              "      <td>0.000000</td>\n",
              "    </tr>\n",
              "    <tr>\n",
              "      <th>25%</th>\n",
              "      <td>481.731105</td>\n",
              "      <td>21340.462905</td>\n",
              "      <td>20.499508</td>\n",
              "      <td>0.000000</td>\n",
              "      <td>0.000000</td>\n",
              "    </tr>\n",
              "    <tr>\n",
              "      <th>50%</th>\n",
              "      <td>823.636973</td>\n",
              "      <td>34552.644800</td>\n",
              "      <td>37.139498</td>\n",
              "      <td>0.000000</td>\n",
              "      <td>0.000000</td>\n",
              "    </tr>\n",
              "    <tr>\n",
              "      <th>75%</th>\n",
              "      <td>1166.308387</td>\n",
              "      <td>43807.729275</td>\n",
              "      <td>64.729941</td>\n",
              "      <td>0.000000</td>\n",
              "      <td>1.000000</td>\n",
              "    </tr>\n",
              "    <tr>\n",
              "      <th>max</th>\n",
              "      <td>2654.322576</td>\n",
              "      <td>73554.233500</td>\n",
              "      <td>1594781.106671</td>\n",
              "      <td>1.000000</td>\n",
              "      <td>1.000000</td>\n",
              "    </tr>\n",
              "  </tbody>\n",
              "</table>\n",
              "</div>"
            ],
            "text/plain": [
              "           balance       income  bal_income_ratio  default_Yes  student_Yes\n",
              "count 10000.000000 10000.000000      10000.000000 10000.000000 10000.000000\n",
              "mean    835.374886 33516.981876        261.887044     0.033300     0.294400\n",
              "std     483.714985 13336.639563      15973.871274     0.179428     0.455795\n",
              "min       0.000000   771.967729          0.000000     0.000000     0.000000\n",
              "25%     481.731105 21340.462905         20.499508     0.000000     0.000000\n",
              "50%     823.636973 34552.644800         37.139498     0.000000     0.000000\n",
              "75%    1166.308387 43807.729275         64.729941     0.000000     1.000000\n",
              "max    2654.322576 73554.233500    1594781.106671     1.000000     1.000000"
            ]
          },
          "metadata": {
            "tags": []
          },
          "execution_count": 60
        }
      ]
    },
    {
      "cell_type": "markdown",
      "metadata": {
        "id": "gZCqoEJ6XEHT",
        "colab_type": "text"
      },
      "source": [
        "At this stage we split the dataset into a test and training set,we'll use 70% for training and 30% for testing."
      ]
    },
    {
      "cell_type": "code",
      "metadata": {
        "id": "4aFrisLyXEHU",
        "colab_type": "code",
        "colab": {}
      },
      "source": [
        "X = df_final.drop(['default_Yes'],axis=1)\n",
        "y = df_final['default_Yes']"
      ],
      "execution_count": 0,
      "outputs": []
    },
    {
      "cell_type": "code",
      "metadata": {
        "id": "fViJZJQMXEHX",
        "colab_type": "code",
        "colab": {}
      },
      "source": [
        "X_train, X_test, y_train, y_test = train_test_split(X, y, test_size=0.3)"
      ],
      "execution_count": 0,
      "outputs": []
    },
    {
      "cell_type": "markdown",
      "metadata": {
        "id": "3ecHBjdUXEHa",
        "colab_type": "text"
      },
      "source": [
        "We then scale our dataset since our machine learning model will expect data that has been scaled."
      ]
    },
    {
      "cell_type": "code",
      "metadata": {
        "id": "lnYKonKPXEHa",
        "colab_type": "code",
        "colab": {}
      },
      "source": [
        "from sklearn.preprocessing import StandardScaler\n",
        "sc = StandardScaler()\n"
      ],
      "execution_count": 0,
      "outputs": []
    },
    {
      "cell_type": "code",
      "metadata": {
        "id": "wjbbmte4XEHg",
        "colab_type": "code",
        "colab": {}
      },
      "source": [
        "X_train = sc.fit_transform(X_train)\n",
        "X_test = sc.transform(X_test)"
      ],
      "execution_count": 0,
      "outputs": []
    },
    {
      "cell_type": "markdown",
      "metadata": {
        "id": "u-ezD28YXEHp",
        "colab_type": "text"
      },
      "source": [
        "We shall then import a few classifiers and test them then pick the one that performs best"
      ]
    },
    {
      "cell_type": "code",
      "metadata": {
        "id": "5tSJlC4uXEHq",
        "colab_type": "code",
        "colab": {}
      },
      "source": [
        "from sklearn.ensemble import RandomForestClassifier\n",
        "from sklearn.linear_model import LogisticRegression\n",
        "from sklearn.ensemble import GradientBoostingClassifier\n",
        "from sklearn.tree import DecisionTreeClassifier"
      ],
      "execution_count": 0,
      "outputs": []
    },
    {
      "cell_type": "markdown",
      "metadata": {
        "id": "d8yyQZtjXEHu",
        "colab_type": "text"
      },
      "source": [
        "Let's now fit the different classifiers to our dataset and compute its scores."
      ]
    },
    {
      "cell_type": "code",
      "metadata": {
        "id": "tCe-e3P0XEHv",
        "colab_type": "code",
        "colab": {
          "base_uri": "https://localhost:8080/",
          "height": 952
        },
        "outputId": "760763bd-8985-44f3-c073-3925337c9183"
      },
      "source": [
        "classifiers = [RandomForestClassifier(verbose=1), LogisticRegression(verbose=1), GradientBoostingClassifier(verbose=True),DecisionTreeClassifier()]\n",
        "\n",
        "for classifier in classifiers:\n",
        "    classifier.fit(X_train, y_train)\n",
        "    print(\"The score of {} is {} \".format(classifier, classifier.score(X_test, y_test)))"
      ],
      "execution_count": 66,
      "outputs": [
        {
          "output_type": "stream",
          "text": [
            "[Parallel(n_jobs=1)]: Using backend SequentialBackend with 1 concurrent workers.\n",
            "[Parallel(n_jobs=1)]: Done 100 out of 100 | elapsed:    0.7s finished\n",
            "[Parallel(n_jobs=1)]: Using backend SequentialBackend with 1 concurrent workers.\n",
            "[Parallel(n_jobs=1)]: Done 100 out of 100 | elapsed:    0.0s finished\n",
            "[Parallel(n_jobs=1)]: Using backend SequentialBackend with 1 concurrent workers.\n",
            "[Parallel(n_jobs=1)]: Done   1 out of   1 | elapsed:    0.0s finished\n"
          ],
          "name": "stderr"
        },
        {
          "output_type": "stream",
          "text": [
            "The score of RandomForestClassifier(bootstrap=True, ccp_alpha=0.0, class_weight=None,\n",
            "                       criterion='gini', max_depth=None, max_features='auto',\n",
            "                       max_leaf_nodes=None, max_samples=None,\n",
            "                       min_impurity_decrease=0.0, min_impurity_split=None,\n",
            "                       min_samples_leaf=1, min_samples_split=2,\n",
            "                       min_weight_fraction_leaf=0.0, n_estimators=100,\n",
            "                       n_jobs=None, oob_score=False, random_state=None,\n",
            "                       verbose=1, warm_start=False) is 0.9683333333333334 \n",
            "The score of LogisticRegression(C=1.0, class_weight=None, dual=False, fit_intercept=True,\n",
            "                   intercept_scaling=1, l1_ratio=None, max_iter=100,\n",
            "                   multi_class='auto', n_jobs=None, penalty='l2',\n",
            "                   random_state=None, solver='lbfgs', tol=0.0001, verbose=1,\n",
            "                   warm_start=False) is 0.971 \n",
            "      Iter       Train Loss   Remaining Time \n",
            "         1           0.2202            1.33s\n",
            "         2           0.2063            1.32s\n",
            "         3           0.1956            1.31s\n",
            "         4           0.1877            1.29s\n",
            "         5           0.1810            1.28s\n",
            "         6           0.1753            1.27s\n",
            "         7           0.1708            1.25s\n",
            "         8           0.1665            1.25s\n",
            "         9           0.1633            1.22s\n",
            "        10           0.1604            1.20s\n",
            "        20           0.1435            0.94s\n",
            "        30           0.1353            0.76s\n",
            "        40           0.1227            0.63s\n",
            "        50           0.1167            0.51s\n",
            "        60           0.1120            0.41s\n",
            "        70           0.1047            0.30s\n",
            "        80           0.1029            0.20s\n",
            "        90           0.1005            0.10s\n",
            "       100           0.0967            0.00s\n",
            "The score of GradientBoostingClassifier(ccp_alpha=0.0, criterion='friedman_mse', init=None,\n",
            "                           learning_rate=0.1, loss='deviance', max_depth=3,\n",
            "                           max_features=None, max_leaf_nodes=None,\n",
            "                           min_impurity_decrease=0.0, min_impurity_split=None,\n",
            "                           min_samples_leaf=1, min_samples_split=2,\n",
            "                           min_weight_fraction_leaf=0.0, n_estimators=100,\n",
            "                           n_iter_no_change=None, presort='deprecated',\n",
            "                           random_state=None, subsample=1.0, tol=0.0001,\n",
            "                           validation_fraction=0.1, verbose=True,\n",
            "                           warm_start=False) is 0.9706666666666667 \n",
            "The score of DecisionTreeClassifier(ccp_alpha=0.0, class_weight=None, criterion='gini',\n",
            "                       max_depth=None, max_features=None, max_leaf_nodes=None,\n",
            "                       min_impurity_decrease=0.0, min_impurity_split=None,\n",
            "                       min_samples_leaf=1, min_samples_split=2,\n",
            "                       min_weight_fraction_leaf=0.0, presort='deprecated',\n",
            "                       random_state=None, splitter='best') is 0.957 \n"
          ],
          "name": "stdout"
        }
      ]
    },
    {
      "cell_type": "markdown",
      "metadata": {
        "id": "8SUldo4AXEHz",
        "colab_type": "text"
      },
      "source": [
        "We notice that we are getting the highest score from the Logistic Regression. We'll proceed to use it and test its parameters using a Grid Search."
      ]
    },
    {
      "cell_type": "code",
      "metadata": {
        "id": "T5FdbO0IXEHz",
        "colab_type": "code",
        "colab": {}
      },
      "source": [
        "parameters = {\n",
        "    'C': [1.0,2.0,3.0],\n",
        "    'fit_intercept': [True,False],\n",
        "    'warm_start': [True,False]\n",
        "}"
      ],
      "execution_count": 0,
      "outputs": []
    },
    {
      "cell_type": "code",
      "metadata": {
        "id": "80ZnCUvSXEH2",
        "colab_type": "code",
        "colab": {}
      },
      "source": [
        "from sklearn.model_selection import GridSearchCV"
      ],
      "execution_count": 0,
      "outputs": []
    },
    {
      "cell_type": "code",
      "metadata": {
        "id": "Q98UA1VTXEH7",
        "colab_type": "code",
        "colab": {
          "base_uri": "https://localhost:8080/",
          "height": 306
        },
        "outputId": "1c0216db-d255-4049-bc16-a1852b5bb2f4"
      },
      "source": [
        "clf = GridSearchCV(LogisticRegression(), parameters, verbose=1, cv=10)\n",
        "clf.fit(X_train, y_train)"
      ],
      "execution_count": 69,
      "outputs": [
        {
          "output_type": "stream",
          "text": [
            "Fitting 10 folds for each of 12 candidates, totalling 120 fits\n"
          ],
          "name": "stdout"
        },
        {
          "output_type": "stream",
          "text": [
            "[Parallel(n_jobs=1)]: Using backend SequentialBackend with 1 concurrent workers.\n",
            "[Parallel(n_jobs=1)]: Done 120 out of 120 | elapsed:    2.8s finished\n"
          ],
          "name": "stderr"
        },
        {
          "output_type": "execute_result",
          "data": {
            "text/plain": [
              "GridSearchCV(cv=10, error_score=nan,\n",
              "             estimator=LogisticRegression(C=1.0, class_weight=None, dual=False,\n",
              "                                          fit_intercept=True,\n",
              "                                          intercept_scaling=1, l1_ratio=None,\n",
              "                                          max_iter=100, multi_class='auto',\n",
              "                                          n_jobs=None, penalty='l2',\n",
              "                                          random_state=None, solver='lbfgs',\n",
              "                                          tol=0.0001, verbose=0,\n",
              "                                          warm_start=False),\n",
              "             iid='deprecated', n_jobs=None,\n",
              "             param_grid={'C': [1.0, 2.0, 3.0], 'fit_intercept': [True, False],\n",
              "                         'warm_start': [True, False]},\n",
              "             pre_dispatch='2*n_jobs', refit=True, return_train_score=False,\n",
              "             scoring=None, verbose=1)"
            ]
          },
          "metadata": {
            "tags": []
          },
          "execution_count": 69
        }
      ]
    },
    {
      "cell_type": "markdown",
      "metadata": {
        "id": "5bPdCt0_XEH-",
        "colab_type": "text"
      },
      "source": [
        "Now'll check the best parameters and use that to fit to our dataset."
      ]
    },
    {
      "cell_type": "code",
      "metadata": {
        "id": "_zZuobOIXEH_",
        "colab_type": "code",
        "colab": {
          "base_uri": "https://localhost:8080/",
          "height": 34
        },
        "outputId": "279e540f-ad15-4b10-94cf-8971b9ef8230"
      },
      "source": [
        "clf.best_params_"
      ],
      "execution_count": 70,
      "outputs": [
        {
          "output_type": "execute_result",
          "data": {
            "text/plain": [
              "{'C': 1.0, 'fit_intercept': True, 'warm_start': True}"
            ]
          },
          "metadata": {
            "tags": []
          },
          "execution_count": 70
        }
      ]
    },
    {
      "cell_type": "code",
      "metadata": {
        "id": "PSKhI-VIXEIC",
        "colab_type": "code",
        "colab": {}
      },
      "source": [
        "from sklearn.utils.class_weight import compute_class_weight\n",
        "weights = compute_class_weight('balanced', y.unique(), y)"
      ],
      "execution_count": 0,
      "outputs": []
    },
    {
      "cell_type": "code",
      "metadata": {
        "id": "ZwTfsCdmXEIE",
        "colab_type": "code",
        "colab": {
          "base_uri": "https://localhost:8080/",
          "height": 34
        },
        "outputId": "c579b122-2605-4c74-eb74-e04725e920ea"
      },
      "source": [
        "y.unique()"
      ],
      "execution_count": 72,
      "outputs": [
        {
          "output_type": "execute_result",
          "data": {
            "text/plain": [
              "array([0, 1], dtype=uint8)"
            ]
          },
          "metadata": {
            "tags": []
          },
          "execution_count": 72
        }
      ]
    },
    {
      "cell_type": "code",
      "metadata": {
        "id": "dIp_3woRXEII",
        "colab_type": "code",
        "colab": {
          "base_uri": "https://localhost:8080/",
          "height": 34
        },
        "outputId": "687b6ebd-8086-4047-9aaa-be4dfd120855"
      },
      "source": [
        "weights"
      ],
      "execution_count": 73,
      "outputs": [
        {
          "output_type": "execute_result",
          "data": {
            "text/plain": [
              "array([ 0.51722354, 15.01501502])"
            ]
          },
          "metadata": {
            "tags": []
          },
          "execution_count": 73
        }
      ]
    },
    {
      "cell_type": "code",
      "metadata": {
        "id": "u5NV2foLXEIL",
        "colab_type": "code",
        "colab": {}
      },
      "source": [
        "class_weights = {\n",
        "    0:0.51722354,\n",
        "    1:15.01501502\n",
        "}"
      ],
      "execution_count": 0,
      "outputs": []
    },
    {
      "cell_type": "code",
      "metadata": {
        "id": "SAkxRWuIXEIN",
        "colab_type": "code",
        "colab": {}
      },
      "source": [
        "import numpy as np"
      ],
      "execution_count": 0,
      "outputs": []
    },
    {
      "cell_type": "code",
      "metadata": {
        "id": "7ScMbdeVXEIU",
        "colab_type": "code",
        "colab": {
          "base_uri": "https://localhost:8080/",
          "height": 34
        },
        "outputId": "04c2fbf8-7a63-42ee-f309-c7b85a512665"
      },
      "source": [
        "9667 / (2 * np.bincount(y))"
      ],
      "execution_count": 76,
      "outputs": [
        {
          "output_type": "execute_result",
          "data": {
            "text/plain": [
              "array([ 0.5       , 14.51501502])"
            ]
          },
          "metadata": {
            "tags": []
          },
          "execution_count": 76
        }
      ]
    },
    {
      "cell_type": "code",
      "metadata": {
        "id": "TLiZmABoXEIX",
        "colab_type": "code",
        "colab": {}
      },
      "source": [
        "lr = LogisticRegression(C=3.0, fit_intercept=True, warm_start = True, class_weight=class_weights)"
      ],
      "execution_count": 0,
      "outputs": []
    },
    {
      "cell_type": "code",
      "metadata": {
        "id": "8gH_D-icXEIb",
        "colab_type": "code",
        "colab": {
          "base_uri": "https://localhost:8080/",
          "height": 34
        },
        "outputId": "a99d9575-3fee-4325-a33d-38e5695e139c"
      },
      "source": [
        "lr.fit(X_train, y_train)\n",
        "lr.score(X_test, y_test)"
      ],
      "execution_count": 78,
      "outputs": [
        {
          "output_type": "execute_result",
          "data": {
            "text/plain": [
              "0.8673333333333333"
            ]
          },
          "metadata": {
            "tags": []
          },
          "execution_count": 78
        }
      ]
    },
    {
      "cell_type": "markdown",
      "metadata": {
        "id": "61r1gFhwXEIf",
        "colab_type": "text"
      },
      "source": [
        "We can now use the predict method to make predictions on the test set."
      ]
    },
    {
      "cell_type": "code",
      "metadata": {
        "id": "4bSPx363XEIg",
        "colab_type": "code",
        "colab": {}
      },
      "source": [
        "predictions = lr.predict(X_test)"
      ],
      "execution_count": 0,
      "outputs": []
    },
    {
      "cell_type": "code",
      "metadata": {
        "id": "0qGU3IBnXEIj",
        "colab_type": "code",
        "colab": {
          "base_uri": "https://localhost:8080/",
          "height": 34
        },
        "outputId": "1ef8ed0b-5a5a-4aeb-8901-a2df199a3dbc"
      },
      "source": [
        "predictions"
      ],
      "execution_count": 80,
      "outputs": [
        {
          "output_type": "execute_result",
          "data": {
            "text/plain": [
              "array([0, 0, 0, ..., 0, 0, 0], dtype=uint8)"
            ]
          },
          "metadata": {
            "tags": []
          },
          "execution_count": 80
        }
      ]
    },
    {
      "cell_type": "markdown",
      "metadata": {
        "id": "Zb1Bqe6ZXEIm",
        "colab_type": "text"
      },
      "source": [
        "We can also predict to get the class probabilities."
      ]
    },
    {
      "cell_type": "code",
      "metadata": {
        "id": "XerDwYXDXEIm",
        "colab_type": "code",
        "colab": {}
      },
      "source": [
        "predict_probabilities = lr.predict_proba(X_test)"
      ],
      "execution_count": 0,
      "outputs": []
    },
    {
      "cell_type": "code",
      "metadata": {
        "id": "PfRgp0dgXEIp",
        "colab_type": "code",
        "colab": {
          "base_uri": "https://localhost:8080/",
          "height": 136
        },
        "outputId": "e2a305fc-92d1-43b3-c691-52b1e0944c35"
      },
      "source": [
        "predict_probabilities"
      ],
      "execution_count": 82,
      "outputs": [
        {
          "output_type": "execute_result",
          "data": {
            "text/plain": [
              "array([[0.94143605, 0.05856395],\n",
              "       [0.7713903 , 0.2286097 ],\n",
              "       [0.9965554 , 0.0034446 ],\n",
              "       ...,\n",
              "       [0.89997152, 0.10002848],\n",
              "       [0.79516746, 0.20483254],\n",
              "       [0.75456391, 0.24543609]])"
            ]
          },
          "metadata": {
            "tags": []
          },
          "execution_count": 82
        }
      ]
    },
    {
      "cell_type": "markdown",
      "metadata": {
        "id": "tBmUL7T9XEIt",
        "colab_type": "text"
      },
      "source": [
        "## Provide documentation on the model comparisons"
      ]
    },
    {
      "cell_type": "code",
      "metadata": {
        "id": "eqNQWE4KXEIt",
        "colab_type": "code",
        "colab": {}
      },
      "source": [
        "from sklearn.metrics import classification_report,confusion_matrix"
      ],
      "execution_count": 0,
      "outputs": []
    },
    {
      "cell_type": "code",
      "metadata": {
        "id": "LWmz1l2QXEIw",
        "colab_type": "code",
        "colab": {
          "base_uri": "https://localhost:8080/",
          "height": 51
        },
        "outputId": "ce956e77-b442-4296-f47a-9d17f1a936a4"
      },
      "source": [
        "print(confusion_matrix(y_test,predictions))"
      ],
      "execution_count": 84,
      "outputs": [
        {
          "output_type": "stream",
          "text": [
            "[[2502  387]\n",
            " [  11  100]]\n"
          ],
          "name": "stdout"
        }
      ]
    },
    {
      "cell_type": "markdown",
      "metadata": {
        "id": "7Cj7_ufKXEIz",
        "colab_type": "text"
      },
      "source": [
        "From the 3000 test data points, the model predicted 2890 + 27  as correctly and predicted 18+65 incorrectly. 2890 are referred to at the True Positives, 18 are the False Positives, 65 are False Negatives and 27 are the True Negatives."
      ]
    },
    {
      "cell_type": "code",
      "metadata": {
        "id": "VRuuO6rLXEIz",
        "colab_type": "code",
        "colab": {
          "base_uri": "https://localhost:8080/",
          "height": 170
        },
        "outputId": "3cc1ee3e-0ab4-4392-8582-b22a9183be02"
      },
      "source": [
        "print(classification_report(y_test,predictions))"
      ],
      "execution_count": 85,
      "outputs": [
        {
          "output_type": "stream",
          "text": [
            "              precision    recall  f1-score   support\n",
            "\n",
            "           0       1.00      0.87      0.93      2889\n",
            "           1       0.21      0.90      0.33       111\n",
            "\n",
            "    accuracy                           0.87      3000\n",
            "   macro avg       0.60      0.88      0.63      3000\n",
            "weighted avg       0.97      0.87      0.90      3000\n",
            "\n"
          ],
          "name": "stdout"
        }
      ]
    },
    {
      "cell_type": "markdown",
      "metadata": {
        "id": "xeyq-BfTXEI2",
        "colab_type": "text"
      },
      "source": [
        "From the classification report we can see that performs better in predicting 'Not Defaulted'(98%) because most of the dataset values are 'Not Defaulted' (60%). From the recall we can tell that 99% of the times the model predicted that Not Defaulted when the actual value was not defaulted. For 29% of the times it predicted that a person had defaulted when they had actually defaulted. For 99% of the time the model predicted defaulted and that was the case. For 39% of the times the model predicted not defaulted and it was the case"
      ]
    },
    {
      "cell_type": "code",
      "metadata": {
        "id": "wtBABg0bXEI7",
        "colab_type": "code",
        "colab": {
          "base_uri": "https://localhost:8080/",
          "height": 421
        },
        "outputId": "7b41260c-75be-48d5-ad2f-5c3ad3b8b9a6"
      },
      "source": [
        "import matplotlib.pyplot as plt\n",
        "from sklearn.metrics import roc_curve, roc_auc_score\n",
        "\n",
        "predictions = lr.predict(X_test)\n",
        "fpr, tpr, thresholds = roc_curve(y_test, predictions, pos_label=1)\n",
        "\n",
        "auc = roc_auc_score(y_test, predictions)\n",
        "\n",
        "\n",
        "plt.figure(figsize=(12,6))\n",
        "plt.plot(fpr, tpr,label='AUC')\n",
        "plt.plot([0, 1], [0, 1], color='red', linestyle='--', label='Random')\n",
        "plt.title('AUC:{}'.format(auc))\n",
        "plt.xlabel('False positive rate')\n",
        "plt.ylabel('True positive rate')\n",
        "plt.legend()"
      ],
      "execution_count": 86,
      "outputs": [
        {
          "output_type": "execute_result",
          "data": {
            "text/plain": [
              "<matplotlib.legend.Legend at 0x7f32022cd780>"
            ]
          },
          "metadata": {
            "tags": []
          },
          "execution_count": 86
        },
        {
          "output_type": "display_data",
          "data": {
            "image/png": "[encoded data removed]",
            "text/plain": [
              "<Figure size 864x432 with 1 Axes>"
            ]
          },
          "metadata": {
            "tags": [],
            "needs_background": "light"
          }
        }
      ]
    },
    {
      "cell_type": "code",
      "metadata": {
        "id": "WhHcCcMDXEJB",
        "colab_type": "code",
        "colab": {
          "base_uri": "https://localhost:8080/",
          "height": 105
        },
        "outputId": "35158b86-e84b-484e-9932-974904345553"
      },
      "source": [
        "from imblearn.under_sampling import NearMiss"
      ],
      "execution_count": 87,
      "outputs": [
        {
          "output_type": "stream",
          "text": [
            "/usr/local/lib/python3.6/dist-packages/sklearn/externals/six.py:31: FutureWarning: The module is deprecated in version 0.21 and will be removed in version 0.23 since we've dropped support for Python 2.7. Please rely on the official version of six (https://pypi.org/project/six/).\n",
            "  \"(https://pypi.org/project/six/).\", FutureWarning)\n",
            "/usr/local/lib/python3.6/dist-packages/sklearn/utils/deprecation.py:144: FutureWarning: The sklearn.neighbors.base module is  deprecated in version 0.22 and will be removed in version 0.24. The corresponding classes / functions should instead be imported from sklearn.neighbors. Anything that cannot be imported from sklearn.neighbors is now part of the private API.\n",
            "  warnings.warn(message, FutureWarning)\n"
          ],
          "name": "stderr"
        }
      ]
    },
    {
      "cell_type": "code",
      "metadata": {
        "id": "mv5V2aH6XEJE",
        "colab_type": "code",
        "colab": {}
      },
      "source": [
        "underSample = NearMiss(0.3,random_state=1545)  # Try different ratios and compare results"
      ],
      "execution_count": 0,
      "outputs": []
    },
    {
      "cell_type": "code",
      "metadata": {
        "id": "Gep38iPlXEJH",
        "colab_type": "code",
        "colab": {
          "base_uri": "https://localhost:8080/",
          "height": 139
        },
        "outputId": "16b0a56f-94a1-4c44-fba5-b74da0b58002"
      },
      "source": [
        "X_resampled,y_resampled = underSample.fit_resample(X.values,y.values)"
      ],
      "execution_count": 119,
      "outputs": [
        {
          "output_type": "stream",
          "text": [
            "/usr/local/lib/python3.6/dist-packages/sklearn/utils/deprecation.py:87: FutureWarning: Function safe_indexing is deprecated; safe_indexing is deprecated in version 0.22 and will be removed in version 0.24.\n",
            "  warnings.warn(msg, category=FutureWarning)\n",
            "/usr/local/lib/python3.6/dist-packages/sklearn/utils/deprecation.py:87: FutureWarning: Function safe_indexing is deprecated; safe_indexing is deprecated in version 0.22 and will be removed in version 0.24.\n",
            "  warnings.warn(msg, category=FutureWarning)\n",
            "/usr/local/lib/python3.6/dist-packages/sklearn/utils/deprecation.py:87: FutureWarning: Function safe_indexing is deprecated; safe_indexing is deprecated in version 0.22 and will be removed in version 0.24.\n",
            "  warnings.warn(msg, category=FutureWarning)\n"
          ],
          "name": "stderr"
        }
      ]
    },
    {
      "cell_type": "code",
      "metadata": {
        "id": "36v6SYzCXEJO",
        "colab_type": "code",
        "colab": {
          "base_uri": "https://localhost:8080/",
          "height": 68
        },
        "outputId": "da1e3d64-e79d-4316-f974-b650f183c31e"
      },
      "source": [
        "pd.Series(y_resampled).value_counts()"
      ],
      "execution_count": 120,
      "outputs": [
        {
          "output_type": "execute_result",
          "data": {
            "text/plain": [
              "0    1110\n",
              "1     333\n",
              "dtype: int64"
            ]
          },
          "metadata": {
            "tags": []
          },
          "execution_count": 120
        }
      ]
    },
    {
      "cell_type": "code",
      "metadata": {
        "id": "XZY1CCx8XEJQ",
        "colab_type": "code",
        "colab": {}
      },
      "source": [
        "model = LogisticRegression()\n",
        "model.fit(X_resampled,y_resampled)\n",
        "predictions2 = model.predict(X_test)"
      ],
      "execution_count": 0,
      "outputs": []
    },
    {
      "cell_type": "code",
      "metadata": {
        "id": "d5rek0yKYBH4",
        "colab_type": "code",
        "colab": {
          "base_uri": "https://localhost:8080/",
          "height": 51
        },
        "outputId": "98e7626d-3cf2-43b7-ae6b-c4f9d2d19c76"
      },
      "source": [
        "print(confusion_matrix(y_test,predictions2))"
      ],
      "execution_count": 122,
      "outputs": [
        {
          "output_type": "stream",
          "text": [
            "[[ 953 1936]\n",
            " [  45   66]]\n"
          ],
          "name": "stdout"
        }
      ]
    },
    {
      "cell_type": "code",
      "metadata": {
        "id": "6CiKH2riYNFQ",
        "colab_type": "code",
        "colab": {
          "base_uri": "https://localhost:8080/",
          "height": 170
        },
        "outputId": "31a0d3ac-0cb0-4e69-81ff-66b10bb0cb29"
      },
      "source": [
        "print(classification_report(y_test,predictions2))"
      ],
      "execution_count": 123,
      "outputs": [
        {
          "output_type": "stream",
          "text": [
            "              precision    recall  f1-score   support\n",
            "\n",
            "           0       0.95      0.33      0.49      2889\n",
            "           1       0.03      0.59      0.06       111\n",
            "\n",
            "    accuracy                           0.34      3000\n",
            "   macro avg       0.49      0.46      0.28      3000\n",
            "weighted avg       0.92      0.34      0.47      3000\n",
            "\n"
          ],
          "name": "stdout"
        }
      ]
    },
    {
      "cell_type": "code",
      "metadata": {
        "id": "hxTRsXzbYPqg",
        "colab_type": "code",
        "colab": {}
      },
      "source": [
        "from imblearn.over_sampling import SMOTE"
      ],
      "execution_count": 0,
      "outputs": []
    },
    {
      "cell_type": "code",
      "metadata": {
        "id": "d7sVj5KnYefR",
        "colab_type": "code",
        "colab": {}
      },
      "source": [
        "smote = SMOTE(0.8) # Try different ratios and compare results"
      ],
      "execution_count": 0,
      "outputs": []
    },
    {
      "cell_type": "code",
      "metadata": {
        "id": "cDBN-fcDYlB8",
        "colab_type": "code",
        "colab": {
          "base_uri": "https://localhost:8080/",
          "height": 71
        },
        "outputId": "448eb162-6dc3-4d7d-c53a-2b09db12c45d"
      },
      "source": [
        "X_resampled,y_resampled = smote.fit_resample(X.values,y.values)"
      ],
      "execution_count": 126,
      "outputs": [
        {
          "output_type": "stream",
          "text": [
            "/usr/local/lib/python3.6/dist-packages/sklearn/utils/deprecation.py:87: FutureWarning: Function safe_indexing is deprecated; safe_indexing is deprecated in version 0.22 and will be removed in version 0.24.\n",
            "  warnings.warn(msg, category=FutureWarning)\n"
          ],
          "name": "stderr"
        }
      ]
    },
    {
      "cell_type": "code",
      "metadata": {
        "id": "Yi_hVZ7zaBpn",
        "colab_type": "code",
        "colab": {
          "base_uri": "https://localhost:8080/",
          "height": 68
        },
        "outputId": "e261634f-eb1e-4bb9-eeb5-dd57a05851e7"
      },
      "source": [
        "pd.Series(y_resampled).value_counts()\n"
      ],
      "execution_count": 127,
      "outputs": [
        {
          "output_type": "execute_result",
          "data": {
            "text/plain": [
              "0    9667\n",
              "1    7733\n",
              "dtype: int64"
            ]
          },
          "metadata": {
            "tags": []
          },
          "execution_count": 127
        }
      ]
    },
    {
      "cell_type": "code",
      "metadata": {
        "id": "1iWBfcGcYrY_",
        "colab_type": "code",
        "colab": {}
      },
      "source": [
        "model = LogisticRegression()\n",
        "model.fit(X_resampled,y_resampled)\n",
        "predictions3 = model.predict(X_test)"
      ],
      "execution_count": 0,
      "outputs": []
    },
    {
      "cell_type": "code",
      "metadata": {
        "id": "_FHCU7BtYtZM",
        "colab_type": "code",
        "colab": {
          "base_uri": "https://localhost:8080/",
          "height": 170
        },
        "outputId": "d54b5339-d3c1-4059-89b9-d02e742ef589"
      },
      "source": [
        "print(classification_report(y_test,predictions3))"
      ],
      "execution_count": 99,
      "outputs": [
        {
          "output_type": "stream",
          "text": [
            "              precision    recall  f1-score   support\n",
            "\n",
            "           0       0.98      0.55      0.70      2889\n",
            "           1       0.06      0.75      0.11       111\n",
            "\n",
            "    accuracy                           0.56      3000\n",
            "   macro avg       0.52      0.65      0.41      3000\n",
            "weighted avg       0.95      0.56      0.68      3000\n",
            "\n"
          ],
          "name": "stdout"
        }
      ]
    },
    {
      "cell_type": "code",
      "metadata": {
        "id": "r_LbMgv3ZCX6",
        "colab_type": "code",
        "colab": {
          "base_uri": "https://localhost:8080/",
          "height": 71
        },
        "outputId": "9a74b9e6-8cb4-4e42-de05-f267d84e35ba"
      },
      "source": [
        "from imblearn.under_sampling import RandomUnderSampler\n",
        "rus = RandomUnderSampler(random_state=0)\n",
        "X_resampled, y_resampled = rus.fit_resample(X, y)"
      ],
      "execution_count": 128,
      "outputs": [
        {
          "output_type": "stream",
          "text": [
            "/usr/local/lib/python3.6/dist-packages/sklearn/utils/deprecation.py:87: FutureWarning: Function safe_indexing is deprecated; safe_indexing is deprecated in version 0.22 and will be removed in version 0.24.\n",
            "  warnings.warn(msg, category=FutureWarning)\n"
          ],
          "name": "stderr"
        }
      ]
    },
    {
      "cell_type": "code",
      "metadata": {
        "id": "KW95QK95lhro",
        "colab_type": "code",
        "colab": {
          "base_uri": "https://localhost:8080/",
          "height": 68
        },
        "outputId": "8e04c2ef-ec0a-4c47-eee3-20d304fa1332"
      },
      "source": [
        "pd.Series(y_resampled).value_counts()"
      ],
      "execution_count": 129,
      "outputs": [
        {
          "output_type": "execute_result",
          "data": {
            "text/plain": [
              "1    333\n",
              "0    333\n",
              "dtype: int64"
            ]
          },
          "metadata": {
            "tags": []
          },
          "execution_count": 129
        }
      ]
    },
    {
      "cell_type": "code",
      "metadata": {
        "id": "UZfN8jqJlkmP",
        "colab_type": "code",
        "colab": {}
      },
      "source": [
        ""
      ],
      "execution_count": 0,
      "outputs": []
    }
  ]
}